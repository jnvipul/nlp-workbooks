{
 "cells": [
  {
   "cell_type": "code",
   "execution_count": 42,
   "metadata": {},
   "outputs": [],
   "source": [
    "import gensim\n",
    "from gensim import corpora\n",
    "from gensim import models, similarities\n",
    "import os\n",
    "import collections\n",
    "import smart_open\n",
    "import random\n",
    "\n",
    "import pandas as pd\n",
    "import numpy as np\n",
    "\n",
    "\n",
    "from pprint import pprint\n",
    "import string"
   ]
  },
  {
   "cell_type": "markdown",
   "metadata": {},
   "source": [
    "# TODO\n",
    "- Remove punctuations\n",
    "- Filtering based on word count"
   ]
  },
  {
   "cell_type": "code",
   "execution_count": 16,
   "metadata": {},
   "outputs": [],
   "source": [
    "def get_train_data():\n",
    "    \"\"\"\n",
    "    SQL here \n",
    "    \"\"\"\n",
    "    data = pd.read_csv('~/Desktop/grocery_products.csv')\n",
    "    return data"
   ]
  },
  {
   "cell_type": "code",
   "execution_count": 17,
   "metadata": {},
   "outputs": [],
   "source": [
    "data = get_train_data()"
   ]
  },
  {
   "cell_type": "code",
   "execution_count": 18,
   "metadata": {},
   "outputs": [
    {
     "name": "stdout",
     "output_type": "stream",
     "text": [
      "(893626, 17)\n"
     ]
    }
   ],
   "source": [
    "print(data.shape)"
   ]
  },
  {
   "cell_type": "code",
   "execution_count": 19,
   "metadata": {},
   "outputs": [
    {
     "name": "stdout",
     "output_type": "stream",
     "text": [
      "<class 'pandas.core.frame.DataFrame'>\n",
      "RangeIndex: 893626 entries, 0 to 893625\n",
      "Data columns (total 5 columns):\n",
      "source_product_id    893626 non-null int64\n",
      "name                 893626 non-null object\n",
      "departments_name     893626 non-null object\n",
      "categories_name      893626 non-null object\n",
      "description_en       893626 non-null object\n",
      "dtypes: int64(1), object(4)\n",
      "memory usage: 34.1+ MB\n"
     ]
    }
   ],
   "source": [
    "selected_data = data[['source_product_id', 'name', 'departments_name', 'categories_name', 'description_en']]\n",
    "# selected_data = selected_data.head(1000)\n",
    "\n",
    "# # replace nan values with ''\n",
    "selected_data = selected_data.replace(np.nan, '', regex=True)\n",
    "selected_data.info()"
   ]
  },
  {
   "cell_type": "markdown",
   "metadata": {},
   "source": [
    "Creating document string"
   ]
  },
  {
   "cell_type": "code",
   "execution_count": 20,
   "metadata": {},
   "outputs": [],
   "source": [
    "selected_data['document'] = selected_data['name'] + ' ' + selected_data['departments_name'] + ' ' + selected_data['categories_name'] + ' ' + selected_data['description_en']"
   ]
  },
  {
   "cell_type": "code",
   "execution_count": 21,
   "metadata": {},
   "outputs": [
    {
     "data": {
      "text/html": [
       "<div>\n",
       "<style scoped>\n",
       "    .dataframe tbody tr th:only-of-type {\n",
       "        vertical-align: middle;\n",
       "    }\n",
       "\n",
       "    .dataframe tbody tr th {\n",
       "        vertical-align: top;\n",
       "    }\n",
       "\n",
       "    .dataframe thead th {\n",
       "        text-align: right;\n",
       "    }\n",
       "</style>\n",
       "<table border=\"1\" class=\"dataframe\">\n",
       "  <thead>\n",
       "    <tr style=\"text-align: right;\">\n",
       "      <th></th>\n",
       "      <th>source_product_id</th>\n",
       "      <th>name</th>\n",
       "      <th>departments_name</th>\n",
       "      <th>categories_name</th>\n",
       "      <th>description_en</th>\n",
       "      <th>document</th>\n",
       "    </tr>\n",
       "  </thead>\n",
       "  <tbody>\n",
       "    <tr>\n",
       "      <th>763</th>\n",
       "      <td>4979224</td>\n",
       "      <td>Tea Infusions - Ginger Tea</td>\n",
       "      <td>Drinks</td>\n",
       "      <td>Tea</td>\n",
       "      <td>Super uses sophisticated technology in their t...</td>\n",
       "      <td>Tea Infusions - Ginger Tea Drinks Tea Super us...</td>\n",
       "    </tr>\n",
       "  </tbody>\n",
       "</table>\n",
       "</div>"
      ],
      "text/plain": [
       "     source_product_id                        name departments_name  \\\n",
       "763            4979224  Tea Infusions - Ginger Tea           Drinks   \n",
       "\n",
       "    categories_name                                     description_en  \\\n",
       "763             Tea  Super uses sophisticated technology in their t...   \n",
       "\n",
       "                                              document  \n",
       "763  Tea Infusions - Ginger Tea Drinks Tea Super us...  "
      ]
     },
     "execution_count": 21,
     "metadata": {},
     "output_type": "execute_result"
    }
   ],
   "source": [
    "selected_data[selected_data['source_product_id'] == 4979224]"
   ]
  },
  {
   "cell_type": "code",
   "execution_count": 22,
   "metadata": {},
   "outputs": [],
   "source": [
    "docs = selected_data['document'].tolist()\n",
    "product_ids = selected_data['source_product_id'].tolist()\n",
    "\n",
    "# Mapping from document index \n",
    "doc_index_to_id = {}\n",
    "for index, product_id in enumerate(product_ids):\n",
    "    doc_index_to_id[index] = product_id"
   ]
  },
  {
   "cell_type": "code",
   "execution_count": 23,
   "metadata": {},
   "outputs": [
    {
     "data": {
      "text/plain": [
       "4979224"
      ]
     },
     "execution_count": 23,
     "metadata": {},
     "output_type": "execute_result"
    }
   ],
   "source": [
    "doc_index_to_id[763]"
   ]
  },
  {
   "cell_type": "code",
   "execution_count": 24,
   "metadata": {},
   "outputs": [
    {
     "name": "stdout",
     "output_type": "stream",
     "text": [
      "('Ice Lemon Tea Drinks Tea Refreshing combination of fruity flavours and real '\n",
      " 'tea leaves. Sweet cooling tea taste with a stimulating lemon flavour finish')\n"
     ]
    }
   ],
   "source": [
    "pprint(docs[2])\n",
    "# print(type(docs[0]))"
   ]
  },
  {
   "cell_type": "code",
   "execution_count": 25,
   "metadata": {},
   "outputs": [],
   "source": [
    "# pprint(docs)"
   ]
  },
  {
   "cell_type": "code",
   "execution_count": 26,
   "metadata": {},
   "outputs": [],
   "source": [
    "def clean_documents(docs):\n",
    "    \"\"\"\n",
    "    docs:\n",
    "        list of string documents\n",
    "    \n",
    "    \"\"\"\n",
    "    # Remove punctuations\n",
    "    translator = str.maketrans('', '', string.punctuation)\n",
    "    docs = [d.translate(translator) for d in docs if isinstance(d, str)]\n",
    "    \n",
    "    # remove common words and tokenize\n",
    "    stoplist = set('for a of the and to in'.split())\n",
    "    docs = [[word for word in document.lower().split() if word not in stoplist]\n",
    "             for document in docs]\n",
    "\n",
    "    # remove words that appear only once\n",
    "    from collections import defaultdict\n",
    "    frequency = defaultdict(int)\n",
    "    for text in docs:\n",
    "        for token in text:\n",
    "            # TODO : Right now increasing by 2 to not skip any word\n",
    "            frequency[token] += 2\n",
    "\n",
    "    docs = [[token for token in doc if frequency[token] > 1] for doc in docs]\n",
    "\n",
    "#     pprint(docs)\n",
    "    return docs"
   ]
  },
  {
   "cell_type": "code",
   "execution_count": 27,
   "metadata": {},
   "outputs": [],
   "source": [
    "docs = clean_documents(docs)"
   ]
  },
  {
   "cell_type": "code",
   "execution_count": 34,
   "metadata": {},
   "outputs": [],
   "source": [
    "dictionary = corpora.Dictionary(docs)\n",
    "dictionary.save(os.path.join('output_data', 'products_corpus.dict'))"
   ]
  },
  {
   "cell_type": "code",
   "execution_count": null,
   "metadata": {},
   "outputs": [],
   "source": [
    "# print(dictionary)"
   ]
  },
  {
   "cell_type": "code",
   "execution_count": null,
   "metadata": {},
   "outputs": [],
   "source": [
    "# print(dictionary.token2id)"
   ]
  },
  {
   "cell_type": "code",
   "execution_count": 35,
   "metadata": {},
   "outputs": [],
   "source": [
    "corpus = [dictionary.doc2bow(doc) for doc in docs]\n",
    "corpora.MmCorpus.serialize(os.path.join('output_data', 'products_corpus.mm'), corpus)"
   ]
  },
  {
   "cell_type": "code",
   "execution_count": 36,
   "metadata": {},
   "outputs": [
    {
     "name": "stdout",
     "output_type": "stream",
     "text": [
      "deerwester.dict          products_corpus.mm\r\n",
      "products_corpus.dict     products_corpus.mm.index\r\n"
     ]
    }
   ],
   "source": [
    "! ls 'output_data'"
   ]
  },
  {
   "cell_type": "code",
   "execution_count": 37,
   "metadata": {},
   "outputs": [],
   "source": [
    "DATA_FOLDER = 'output_data'\n",
    "dictionary = corpora.Dictionary.load(os.path.join(DATA_FOLDER, 'products_corpus.dict'))\n",
    "corpus = corpora.MmCorpus(os.path.join(DATA_FOLDER, 'products_corpus.mm'))"
   ]
  },
  {
   "cell_type": "code",
   "execution_count": 38,
   "metadata": {},
   "outputs": [
    {
     "name": "stdout",
     "output_type": "stream",
     "text": [
      "MmCorpus(893626 documents, 88913 features, 9835174 non-zero entries)\n"
     ]
    }
   ],
   "source": [
    "print(corpus)"
   ]
  },
  {
   "cell_type": "code",
   "execution_count": 52,
   "metadata": {},
   "outputs": [],
   "source": [
    "lsi = models.LsiModel(corpus, id2word=dictionary, num_topics=200)"
   ]
  },
  {
   "cell_type": "code",
   "execution_count": 53,
   "metadata": {},
   "outputs": [
    {
     "name": "stderr",
     "output_type": "stream",
     "text": [
      "/Users/vipul/anaconda3/lib/python3.7/site-packages/gensim/matutils.py:737: FutureWarning: Conversion of the second argument of issubdtype from `int` to `np.signedinteger` is deprecated. In future, it will be treated as `np.int64 == np.dtype(int).type`.\n",
      "  if np.issubdtype(vec.dtype, np.int):\n"
     ]
    }
   ],
   "source": [
    "index = similarities.MatrixSimilarity(lsi[corpus])"
   ]
  },
  {
   "cell_type": "markdown",
   "metadata": {},
   "source": [
    "### Testing a sample document for similarity"
   ]
  },
  {
   "cell_type": "code",
   "execution_count": 103,
   "metadata": {},
   "outputs": [],
   "source": [
    "sample_doc = 'green tea'"
   ]
  },
  {
   "cell_type": "code",
   "execution_count": 104,
   "metadata": {},
   "outputs": [
    {
     "name": "stdout",
     "output_type": "stream",
     "text": [
      "[(0, 0.06840769480056523), (1, 0.0735130106121753), (2, -0.06285905454710147), (3, 0.005913976527027322), (4, -0.02043975651246738), (5, -0.1841111541890951), (6, -0.09330512627513461), (7, 0.1609325334022964), (8, -0.2946336258745317), (9, -0.15990566745028928), (10, 0.045050276822673214), (11, -0.14544478823370344), (12, -0.03621941778137009), (13, -0.17492003995406438), (14, 0.35590843806218647), (15, -0.24753314023807943), (16, -0.661496768163064), (17, 0.5309233861647971), (18, -0.30740849351912564), (19, -0.14757877717942966), (20, -0.2635916180782732), (21, -0.07100966011404464), (22, 0.05495168093023563), (23, -0.021877022266308287), (24, 0.01052999308832735), (25, -0.016378749822509708), (26, 0.07922493731695456), (27, 0.005429530718993205), (28, -0.006512544451429965), (29, 0.0018543808337589795), (30, 0.010204425605846466), (31, -0.052870043110144815), (32, -0.013311693418198552), (33, -0.04592096043443648), (34, 0.04676906728110339), (35, -0.045085043574691834), (36, -0.02266220253936726), (37, 0.032329800237751956), (38, -0.01641122037026007), (39, -0.022930457457716415), (40, 0.046195337588412606), (41, -0.03511526361106568), (42, -0.013228846745927088), (43, 0.018808182195823284), (44, 0.03700602315467866), (45, 0.019383000949228926), (46, -0.05646227180634997), (47, 0.041965403620294175), (48, -0.014475707688197632), (49, -0.05411873102071387), (50, 0.042279992940923085), (51, -0.002542413819645431), (52, 0.07817489820081786), (53, 0.06331523719214954), (54, -0.028749287149330855), (55, 0.10306857433959948), (56, -0.08261610258984653), (57, 0.07317531313940603), (58, -0.011452353464194157), (59, -0.052186012969603034), (60, 0.05256487638124528), (61, -0.04335384884478329), (62, -0.11425769445064442), (63, 0.2608217507973754), (64, 0.12984461802469668), (65, 0.12375799594766106), (66, -0.04761966366715286), (67, -0.01391431859910691), (68, -0.08596735816875478), (69, 0.5439968428200912), (70, -0.06856409110334533), (71, 0.019413041660439785), (72, -0.035345205429445734), (73, 0.0007704166468457691), (74, -0.1315497691304967), (75, -0.0835307574780118), (76, -0.05864328066545192), (77, 0.05815523596446765), (78, 0.018071577590625987), (79, 0.06120629120669051), (80, 0.05396637015675977), (81, -0.011986428327823252), (82, 0.024513609347230958), (83, -0.10607662507701485), (84, -0.1653925871607161), (85, 0.042663791085491176), (86, -0.027890674677880346), (87, 0.011719665066049642), (88, -0.022197087752265598), (89, 0.0679175488788601), (90, -0.0036486322812318873), (91, 0.05307903518845884), (92, -0.013503621128807809), (93, -0.010073679160500441), (94, 0.035794786845999384), (95, 0.014368320754038155), (96, 0.00694177645060913), (97, -0.011340163682487579), (98, 0.0025237498019803004), (99, -0.01710200795509395), (100, 0.011617160513879054), (101, 0.01530024617488972), (102, 0.02577956993808744), (103, -0.0208683793070079), (104, 0.0025516438291245287), (105, -0.004481659404087481), (106, 0.041853812989968056), (107, -0.03694589184283603), (108, 0.0029987933550472386), (109, 0.025260210365731537), (110, -0.016392330132687996), (111, -0.011986140223087522), (112, -0.0034780774175003472), (113, 0.01052119911287127), (114, 0.021533304984520395), (115, 0.004484413187894818), (116, -0.0017098147663528029), (117, 0.009075458982327913), (118, -0.004340817172950544), (119, -0.02507646894689367), (120, 0.002757141777128082), (121, 0.007294514804397145), (122, 0.03254810065838195), (123, -0.007737192854221895), (124, -0.019960445577533507), (125, 0.020375380622706867), (126, 0.020562011324711322), (127, 0.012437898105805915), (128, -0.018087042909883957), (129, 0.0013417352100686952), (130, -0.011921255403800707), (131, 0.0008638071762668183), (132, -0.0037356186325624295), (133, 0.004071245412609728), (134, 0.0002694105514272141), (135, -0.01110359144059377), (136, 0.01873367150548312), (137, -0.0260802385546745), (138, -0.04277597102305843), (139, 0.003704278913861785), (140, 0.022050094307032007), (141, 0.008346360024626513), (142, 0.011378693070588078), (143, -0.018887491430806), (144, -0.0083830019022018), (145, 0.01316494642779401), (146, -0.0009067240878303396), (147, 0.00021270897568628072), (148, -0.003534261961738632), (149, -0.010888785517663424), (150, 0.0035098381678390035), (151, -0.009959920446474388), (152, -0.005303862438590656), (153, 0.015686115399564892), (154, 0.026073449491229105), (155, -0.02392948567363249), (156, 0.016425743702533385), (157, 0.011034303002652098), (158, 0.015047207860710496), (159, 0.014895839393416835), (160, 0.01166259392987664), (161, 0.005243254237968141), (162, 0.0038304668983811423), (163, 0.008535806855196297), (164, 0.023182735760838402), (165, 0.00739476912724461), (166, 0.006375039324374831), (167, -0.01081092739581876), (168, 0.001176285926228965), (169, 0.014805111335042146), (170, -0.0038469690537226084), (171, -0.012625552706940251), (172, 0.008604142603965187), (173, 0.0021766104894922747), (174, -0.010377956136400735), (175, -0.015714840349484782), (176, -0.0025116414031238926), (177, 0.007392381720630168), (178, 0.007226548325292837), (179, 0.0024752724280915264), (180, 3.179689924239079e-05), (181, 0.006399035362517083), (182, -0.00827984948163194), (183, -0.0005884626737620632), (184, 0.003292705363358191), (185, -0.0029051607425076877), (186, 0.003534926474235752), (187, 0.004003128102745412), (188, -0.0014568348329027443), (189, 0.0012660967068450738), (190, 0.007780345863405999), (191, -0.012468903215937507), (192, -0.0009034177844842815), (193, 0.006914393617814149), (194, -0.006047214656021737), (195, 0.0051129962580007205), (196, -0.00170685406908777), (197, 0.000785947708419674), (198, -0.0016277598332951997), (199, -7.262432535138979e-05)]\n"
     ]
    }
   ],
   "source": [
    "vec_bow = dictionary.doc2bow(sample_doc.lower().split())\n",
    "vec_lsi = lsi[vec_bow]\n",
    "print(vec_lsi)"
   ]
  },
  {
   "cell_type": "code",
   "execution_count": null,
   "metadata": {},
   "outputs": [],
   "source": []
  },
  {
   "cell_type": "code",
   "execution_count": 105,
   "metadata": {},
   "outputs": [],
   "source": [
    "similarity_scores = index[vec_lsi]\n",
    "similarity_scores = list(enumerate(similarity_scores))"
   ]
  },
  {
   "cell_type": "code",
   "execution_count": 106,
   "metadata": {},
   "outputs": [],
   "source": [
    "# Sort in descending order of similarity\n",
    "sorted_similarity_scores = sorted(similarity_scores, key=lambda tup: tup[1], reverse=True)"
   ]
  },
  {
   "cell_type": "code",
   "execution_count": 107,
   "metadata": {
    "scrolled": false
   },
   "outputs": [],
   "source": [
    "# print(sorted_similarity_scores[:10])"
   ]
  },
  {
   "cell_type": "code",
   "execution_count": 108,
   "metadata": {},
   "outputs": [
    {
     "data": {
      "text/plain": [
       "tuple"
      ]
     },
     "execution_count": 108,
     "metadata": {},
     "output_type": "execute_result"
    }
   ],
   "source": [
    "type(sorted_similarity_scores[0])"
   ]
  },
  {
   "cell_type": "code",
   "execution_count": 109,
   "metadata": {},
   "outputs": [
    {
     "name": "stdout",
     "output_type": "stream",
     "text": [
      "785095    Green Jasmine\n",
      "Name: name, dtype: object : 0.9997177124023438\n",
      "815332    Green Jasmine\n",
      "Name: name, dtype: object : 0.9997177124023438\n",
      "399307    Oi Ocha Green Tea (tetra)\n",
      "Name: name, dtype: object : 0.9859806299209595\n",
      "98420    Green Pot Osmanthus Green Rooibos Tea\n",
      "Name: name, dtype: object : 0.9666367173194885\n",
      "552960    Makaibari Silver Green Darjeeling Green Tea\n",
      "Name: name, dtype: object : 0.9663047790527344\n",
      "654220    Green Pot Lemongrass Green Tea\n",
      "Name: name, dtype: object : 0.9659451246261597\n",
      "721851    Oi Ocha Green Tea\n",
      "Name: name, dtype: object : 0.9493176937103271\n",
      "449182    Green tea leaves\n",
      "Name: name, dtype: object : 0.9451427459716797\n",
      "94444    Silver Green Darjeeling Green Tea\n",
      "Name: name, dtype: object : 0.9445038437843323\n",
      "150654    Silver Green Darjeeling Green Tea\n",
      "Name: name, dtype: object : 0.9445038437843323\n"
     ]
    }
   ],
   "source": [
    "for doc_index, score in sorted_similarity_scores[:10]:\n",
    "    product_id = doc_index_to_id[doc_index]\n",
    "    product_info = str(selected_data[selected_data['source_product_id'] == product_id]['name'])\n",
    "    print(f'{product_info} : {score}')"
   ]
  },
  {
   "cell_type": "code",
   "execution_count": null,
   "metadata": {},
   "outputs": [],
   "source": []
  },
  {
   "cell_type": "code",
   "execution_count": null,
   "metadata": {},
   "outputs": [],
   "source": []
  },
  {
   "cell_type": "code",
   "execution_count": null,
   "metadata": {},
   "outputs": [],
   "source": []
  }
 ],
 "metadata": {
  "kernelspec": {
   "display_name": "Python 3",
   "language": "python",
   "name": "python3"
  },
  "language_info": {
   "codemirror_mode": {
    "name": "ipython",
    "version": 3
   },
   "file_extension": ".py",
   "mimetype": "text/x-python",
   "name": "python",
   "nbconvert_exporter": "python",
   "pygments_lexer": "ipython3",
   "version": "3.7.0"
  }
 },
 "nbformat": 4,
 "nbformat_minor": 2
}
