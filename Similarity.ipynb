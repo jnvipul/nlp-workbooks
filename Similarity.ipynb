{
 "cells": [
  {
   "cell_type": "code",
   "execution_count": 7,
   "metadata": {},
   "outputs": [],
   "source": [
    "import gensim\n",
    "import os\n",
    "import collections\n",
    "import smart_open\n",
    "import random\n",
    "\n",
    "import pandas as pd\n",
    "import numpy as np\n"
   ]
  },
  {
   "cell_type": "code",
   "execution_count": 13,
   "metadata": {},
   "outputs": [],
   "source": [
    "def prepare_train_data():\n",
    "    \"\"\"\n",
    "    SELECT\n",
    "        name,\n",
    "        departments_name,\n",
    "        categories_name,\n",
    "        description_en,\n",
    "        catalog_name, -- Might not need\n",
    "        price,\n",
    "        bulkiness,\n",
    "        is_fragile,\n",
    "        is_perishable,\n",
    "        weight,\n",
    "        country_of_origin,\n",
    "        tradename_en,\n",
    "        url,\n",
    "        source_product_id,\n",
    "        source_brand_id,\n",
    "        source_catalog_id,\n",
    "        source_country_id\n",
    "    FROM honeypot_v3.products\n",
    "    WHERE source_country_id = 1\n",
    "            AND is_published = TRUE\n",
    "            AND status = 'available'\n",
    "    \"\"\"\n",
    "    data = pd.read_csv('~/Desktop/grocery_products.csv')\n",
    "    return data"
   ]
  },
  {
   "cell_type": "code",
   "execution_count": 14,
   "metadata": {},
   "outputs": [],
   "source": [
    "data = prepare_train_data()"
   ]
  },
  {
   "cell_type": "code",
   "execution_count": 16,
   "metadata": {},
   "outputs": [
    {
     "name": "stdout",
     "output_type": "stream",
     "text": [
      "(893626, 17)\n"
     ]
    }
   ],
   "source": [
    "print(data.shape)"
   ]
  },
  {
   "cell_type": "code",
   "execution_count": 24,
   "metadata": {},
   "outputs": [
    {
     "data": {
      "text/html": [
       "<div>\n",
       "<style scoped>\n",
       "    .dataframe tbody tr th:only-of-type {\n",
       "        vertical-align: middle;\n",
       "    }\n",
       "\n",
       "    .dataframe tbody tr th {\n",
       "        vertical-align: top;\n",
       "    }\n",
       "\n",
       "    .dataframe thead th {\n",
       "        text-align: right;\n",
       "    }\n",
       "</style>\n",
       "<table border=\"1\" class=\"dataframe\">\n",
       "  <thead>\n",
       "    <tr style=\"text-align: right;\">\n",
       "      <th></th>\n",
       "      <th>source_product_id</th>\n",
       "      <th>name</th>\n",
       "      <th>departments_name</th>\n",
       "      <th>categories_name</th>\n",
       "      <th>description_en</th>\n",
       "    </tr>\n",
       "  </thead>\n",
       "  <tbody>\n",
       "    <tr>\n",
       "      <th>0</th>\n",
       "      <td>2506104</td>\n",
       "      <td>A08. Golden Nasi Super Combo</td>\n",
       "      <td>Department - (Mchefz Cuisine Menu (mchefz-cuis...</td>\n",
       "      <td>Rice</td>\n",
       "      <td>Served with fried chicken thigh and braised be...</td>\n",
       "    </tr>\n",
       "    <tr>\n",
       "      <th>1</th>\n",
       "      <td>2682483</td>\n",
       "      <td>Honey Stars Breakfast Cereal</td>\n",
       "      <td>Food Cupboard</td>\n",
       "      <td>Cereals &amp; Cereal Bars</td>\n",
       "      <td>This product is getting close to its expiry da...</td>\n",
       "    </tr>\n",
       "    <tr>\n",
       "      <th>2</th>\n",
       "      <td>2683014</td>\n",
       "      <td>Ice Lemon Tea</td>\n",
       "      <td>Drinks</td>\n",
       "      <td>Tea</td>\n",
       "      <td>Refreshing combination of fruity flavours and ...</td>\n",
       "    </tr>\n",
       "    <tr>\n",
       "      <th>3</th>\n",
       "      <td>2768893</td>\n",
       "      <td>Anticavity Maximum Cavity Protection Toothpaste</td>\n",
       "      <td>Health &amp; Beauty</td>\n",
       "      <td>Oral Care</td>\n",
       "      <td>This product is getting close to its expiry da...</td>\n",
       "    </tr>\n",
       "    <tr>\n",
       "      <th>4</th>\n",
       "      <td>2771143</td>\n",
       "      <td>Daily Moisture Therapy Dermo-Cleanser Twin Pack</td>\n",
       "      <td>Health &amp; Beauty</td>\n",
       "      <td>Body Care</td>\n",
       "      <td>Daily Moisture Therapy Dermo-Cleanser is a hyp...</td>\n",
       "    </tr>\n",
       "  </tbody>\n",
       "</table>\n",
       "</div>"
      ],
      "text/plain": [
       "   source_product_id                                             name  \\\n",
       "0            2506104                     A08. Golden Nasi Super Combo   \n",
       "1            2682483                     Honey Stars Breakfast Cereal   \n",
       "2            2683014                                    Ice Lemon Tea   \n",
       "3            2768893  Anticavity Maximum Cavity Protection Toothpaste   \n",
       "4            2771143  Daily Moisture Therapy Dermo-Cleanser Twin Pack   \n",
       "\n",
       "                                    departments_name        categories_name  \\\n",
       "0  Department - (Mchefz Cuisine Menu (mchefz-cuis...                   Rice   \n",
       "1                                      Food Cupboard  Cereals & Cereal Bars   \n",
       "2                                             Drinks                    Tea   \n",
       "3                                    Health & Beauty              Oral Care   \n",
       "4                                    Health & Beauty              Body Care   \n",
       "\n",
       "                                      description_en  \n",
       "0  Served with fried chicken thigh and braised be...  \n",
       "1  This product is getting close to its expiry da...  \n",
       "2  Refreshing combination of fruity flavours and ...  \n",
       "3  This product is getting close to its expiry da...  \n",
       "4  Daily Moisture Therapy Dermo-Cleanser is a hyp...  "
      ]
     },
     "execution_count": 24,
     "metadata": {},
     "output_type": "execute_result"
    }
   ],
   "source": [
    "selected_data = data[['source_product_id', 'name', 'departments_name', 'categories_name', 'description_en']]\n",
    "selected_data = selected_data.head(100)\n",
    "\n",
    "selected_data.head()"
   ]
  },
  {
   "cell_type": "markdown",
   "metadata": {},
   "source": [
    "Creating document string"
   ]
  },
  {
   "cell_type": "code",
   "execution_count": 28,
   "metadata": {},
   "outputs": [],
   "source": [
    "selected_data['document'] = selected_data['name'] + ' ' + selected_data['departments_name'] + ' ' + selected_data['categories_name'] + ' ' + selected_data['description_en']"
   ]
  },
  {
   "cell_type": "code",
   "execution_count": 36,
   "metadata": {},
   "outputs": [],
   "source": [
    "selected_data.head()\n",
    "documents_list = selected_data['document'].tolist()"
   ]
  },
  {
   "cell_type": "code",
   "execution_count": 33,
   "metadata": {},
   "outputs": [
    {
     "data": {
      "text/plain": [
       "document    Ice Lemon Tea Drinks Tea Refreshing combinatio...\n",
       "Name: 2, dtype: object"
      ]
     },
     "execution_count": 33,
     "metadata": {},
     "output_type": "execute_result"
    }
   ],
   "source": [
    "selected_data[['document']].iloc[2]"
   ]
  },
  {
   "cell_type": "code",
   "execution_count": 37,
   "metadata": {},
   "outputs": [
    {
     "data": {
      "text/plain": [
       "['A08. Golden Nasi Super Combo Department - (Mchefz Cuisine Menu (mchefz-cuisine)) Rice Served with fried chicken thigh and braised beef and cuttlefish, add ons available',\n",
       " \"Honey Stars Breakfast Cereal Food Cupboard Cereals & Cereal Bars This product is getting close to its expiry date—don't let this get away from you! It's still safe for consumption, now enjoy it at a lower price.<br/><br/>Expiry Date: 2018-07-30<br/><br/>\",\n",
       " 'Ice Lemon Tea Drinks Tea Refreshing combination of fruity flavours and real tea leaves. Sweet cooling tea taste with a stimulating lemon flavour finish',\n",
       " \"Anticavity Maximum Cavity Protection Toothpaste Health & Beauty Oral Care This product is getting close to its expiry date—don't let this get away from you! It's still safe for use, now enjoy it at a lower price.<br/> <br/>Expiry Date : 2018-10-13\",\n",
       " 'Daily Moisture Therapy Dermo-Cleanser Twin Pack Health & Beauty Body Care Daily Moisture Therapy Dermo-Cleanser is a hypoallergenic, soap-free cleanser ideal for dry and sensitive skin. Its special formula is pH balanced and is designed to be suitable for frequent use, gently cleansing dry, sensitive skin with or without water to leave your skin feeling clean and soft. This cleanser is free from preservatives, perfumes and colourants.',\n",
       " 'Bak Kut Teh Spices Traditional Food Cupboard Sauces & Dressings Enjoy a bowl of Bak Kut Teh at any time of the day with New Moon Bak Kut Teh Spices Traditional. This delicious and comforting Chinese herbal soup is perfect especially when the weather is cold. This pack is low in fat and has no cholesterol, artificial colouring, artificial flavouring or added preservatives. Easy to use.',\n",
       " 'Paste - Fish Curry Members Specials Food Cupboard Prepare aromatic, spicy, mouth-watering fish curry quickly and easily with new moon premium fish curry paste. Trans fat free and contains 25% less sodium as compared to regular asian recipe mixes.',\n",
       " nan,\n",
       " nan,\n",
       " nan,\n",
       " 'Wafer Crunch - Chocolate Hazelnuts Members Specials Snacks & Sweets This satisfyingly crunchy wafer from Ego has a rich, chocolate and hazelnut flavoured cream filling that adds a luxurious edge to the thin, dry wafer biscuits. These wafer biscuits make a perfect accompaniment to afternoon or morning tea, or you can eat them whenever you need a quick, fruity sugar hit. The chocolate and hazelnut cream filling makes these wafer biscuits an excellent companion biscuit to vanilla ice cream.',\n",
       " \"Blueberry with Flax Food Cupboard Cereals & Cereal Bars This product is getting close to its expiry date—don't let this get away from you! It's still safe for consumption, now enjoy it at a lower price.<br/><br/>Expiry Date: 2018-08-08<br/><br/>\",\n",
       " \"Premium Black Beans Food Cupboard Canned & Packaged Food Give your dish a little crunch and sweetness with a can of S&W Premium Black Beans. A good source of protein and fibre, and packed with micronutrients and antioxidants, it's a healthy and nutritious addition to any meal. Open a can and mix it into your chilli or serve it with brown rice with a little squeeze of lemon and cilantro garnish.\",\n",
       " \"Natural Lime Juice Cordial Drinks Cordials This lime juice corial from Bickfords is a zesty and resfreshing beverage, with fresh lime taste. Dilute it with water, for a thirst-quenching drink. Producing premium beverages, corials and mixers in Australia since 1874, Bickford's is still a family-run business. Fusing raditional recipes, high-quality ingredients and state-of-the-art technologies, Bickford's craft a range of innovative and unique drinks.\",\n",
       " 'Full Cream Milk Dairy, Eggs & Chilled Food Milk & Chilled Drinks Enjoy pure, natural and organic full cream milk. Ideal for baking, making sauces or coffee. No preservatives, no gelatine.',\n",
       " 'Sweet & Mild Silverskin Onions Food Cupboard Preserved & Dried Goods Silverskin onions pickled in a sweet & mild vinegar with sugar and sweetener',\n",
       " 'Olive Farm Wines - Merlot Department - (Delivery (Duxton) (merchants-wine-store)) Merlot Swan District, WA.',\n",
       " nan,\n",
       " 'Silver Fish Fritto Department - (Marché Mövenpick @ VivoCity (march-mvenpick-vivocity)) Seafood Add on available',\n",
       " \"Cream of Mushroom Condensed Soup Food Cupboard Canned & Packaged Food The delicious flavours of Campbell's Cream of Mushroom Condensed Soup are made with trusted ingredients—all ready to eat when you are. Whatever your taste, there is a soup to warm your bones and soothe your mind. You can also use it as a base, together with the broth of your choice, for a thicker, creamier gravy to pour over cooked meat and vegetables. No artificial colour or flavour is used in the recipe.\",\n",
       " \"Command Damage-Free Hanging - Picture Hanging Strips Home Lighting & DIY Command gives you the ability to hang anything in your home, without the risk of damage. Temporarily decorate your space, with no need for wall-damaging glue, tack or nails. Command offers strong hold grip to hold surprisingly heavy items, and removes cleanly from surfaces whenever you're ready. Perfect for seasonal decor, accessorising a rental space, or hanging a range of artwork. These picture hanging strips are an easy and convenient way to hang artwork.\",\n",
       " 'Sunflower Yellow Dinner Plate (20 Plates/Pack) New Arrivals Home Brighten up your party venue with our Dinner Plates . Package includes 16 paper plates, each measuring 9 inches in diameter .',\n",
       " 'Nora Pepper Chopped New Arrivals Food Cupboard Country of Origin:Spain',\n",
       " 'Miso Sauce - Nikumiso Food Cupboard Sauces & Dressings Shinshu red miso sauce together with bean miso, add sauce noodle sauce and pepper sauce and finish it in a rich taste. The scent of sesame oil and garlic is also accented . We used soybean meat in place of meat, finished in meat miso style which responds',\n",
       " nan,\n",
       " 'Freezer Gallon Zipper Bags (26.8 cm x 27.3 cm) Home Kitchen & Dining These freezer bags are safe and convenient for use in the kitchen. With an extra-wide zip seal for tight and easy sealing every time, these bags are an easy way to keep food fresher for longer. There are 15 zipper bags in a box, each holding up to a gallon of food or liquid. Glad products are environmentally friendly as they are manufactured with less plastic as well as being tough and strong.',\n",
       " 'Black Peppercorn Grinder Food Cupboard Cooking Ingredients Black peppercorns in a glass bottle with a built-in grinder. Great on chicken, beef, pork, vegetables and salads.',\n",
       " 'Grinder - Duck & Poultry Food Cupboard Cooking Ingredients A delicious blend of herbs and spices with the warmth of paprika, the purity of ginger and the synergy of sage that is perfectly suited to flavour any poultry dish whether it quacks, squawks, gobbles or clucks.',\n",
       " 'Scrub - Apricot (Fresh Skin) Health & Beauty Skin Care The icon. The cult classic. The beauty editor favorite. Our deep cleaning apricot scrub with 100% natural walnut shell powder works to give you soft, smooth, positively glowing skin.',\n",
       " 'Chopped Tomatoes - Garlic Food Cupboard Canned & Packaged Food Ingredients: Chopped tomatoes (65%), tomato juice, sugar, garlic powder (0.3%), garlic extract (0.2%), acidity regulator: citric acid.',\n",
       " \"Moroccan Medley Cous Cous Food Cupboard Rice, Noodles, Pasta & Rolls Treat yourself to a delicious Moroccan meal with Ainsley Harriott Moroccan Medley Cous Cous. Savoury coucous with a tangy twist of apple, sunflower seeds and cumin. It's delicious, satisfying and filling with only 176 calories per serving. Can be enjoyed as a side dish or as an ingredient in other dishes. Ready in three minutes. Just add boiling water.\",\n",
       " 'Organic Cereal - Rice Puffs (No Added Sugar) Food Cupboard Cereals & Cereal Bars 15g of whole grains with no sugar added and sodium free.',\n",
       " 'Organic Wheat Grain Food Cupboard Preserved & Dried Goods Lotus organic wheat grain is a hard wheat with a protein level over 12%, which is necessary for bread baking. Use in breads, muffins & cereal to add fibre to your diet',\n",
       " \"Full Cream Drinks Milk Products & Soy Drinks This product is getting close to its expiry date—don't let this get away from you! It's still safe for consumption, now enjoy it at a lower price.<br/> <br/>\",\n",
       " 'Vita-C Orange Flavour Candy Snacks & Sweets Candy Halls Defense Vitamin C Supplement Drops help keep you going, because each drop delivers 100% of the Daily Value of Vitamin C.',\n",
       " \"Blackberry Jam Food Cupboard Honey, Jam & Spreads All time Australia's favourite jam spread. IXL is much more versatile than just a spread. Today, it's used in many delicious recipes - from incredible cakes to mouth-watering desserts you can whip up in a flash. Made from real fruit. Product contains no added colours or flavours.\",\n",
       " \"Thai Honey Mango Fresh Fruits Tropical Fruits Fresh mango is an absolute delicacy. It's no wonder mangoes are known as the king of all fruits. The texture is silky and smooth and incredibly sweet and juicy.\",\n",
       " 'Fabric Stain Remover Powder Household & Cleaning Laundry Vanish is a trusted fabric stain remover, powerful enough to remove the toughest stains from clothes and other fabrics. This Vanish powder has oxi-action crystal white technology, for powerful stain removal that returns your white fabrics to pristine. Vanish powder quickly and easily removes tough stains on the first use.',\n",
       " 'Bottled Juice - Black Cherry Drinks Juices & Juice Drinks R.W. knudsen Family Just Black Cherry Drink is made with certified organic cherries from California. Made with all-natural ingredients, this is a beverage to be enjoyed by the whole family for its tastiness and purity. Available in 946ml containers.',\n",
       " nan,\n",
       " \"Country Crisp with 70% Cocoa Dark Chocolate Food Cupboard Cereals & Cereal Bars This product is getting close to its expiry date—don't let this get away from you! It's still safe for consumption, now enjoy it at a lower price.<br/> <br/>Crisp Cereal clusters with dark chocolate curls.\",\n",
       " 'Cinnamon - Stick Food Cupboard Cooking Ingredients Whole cinnamon sticks are from the bark of evergreen trees. They are harvested by peeling off the tree bark, and allowing it to curl up in quills as it dries.',\n",
       " 'Extend For Muscle & Joint Pain Relief Caplets Health & Beauty Medication Panadol For Muscle and Joint Pain is a paracetamol-based painkiller caplet with a sustained release formulation to relieve pain for up to 8 hours while remaining gentle on stomachs. These Panadol caplets are film-coated with no bitter aftertaste and provi',\n",
       " 'Organic Apple Cider Vinegar Drink - Ginger Spice Drinks Vinegar & Flavoured Drinks For centuries, apple cider vinegar has been held in high esteem. It is an ancient folk remedy and has been used to helps with lots of different types of health issues. Some of these benefits however, are scientifically supported. It has been proven that i',\n",
       " \"Ice Mountain Sparkling Water (Classic No Sugar) Drinks Water & Sparkling Water This product is getting close to its expiry date—don't let this get away from you! It's still safe for consumption, now enjoy it at a lower price.<br/><br/>Expiry Date: 2018-08-20<br/><br/>\",\n",
       " '2 Way Hotcake Stack Department - (Daily Affairs Menu (daily-affairs)) Sunday Breakfast (11am - 3pm) Pancakes, Berries sauce, Maple Syrup, Mayo, Chicken Floss.  Free a cup of Americano or Breakfast tea for every main course purchase.',\n",
       " \"Delux Wild Spread - Blueberry Members Specials Food Cupboard This all-natural wild blueberry spread is a luciously sweet addition to your breakfast table. Enjoy your preserve the classic French way, with freshly baked bread and tarts. This home-style product of France is still made to a Grandmother's recipe, with no cane sugar, preservatives or artificial colours and only natural preservatives. St. Dalfour wild blueberry high fruit content spread is packed with real fruit.\",\n",
       " \"Fruit Tree - Luscious Berries with Organic Chia Seeds Drink Dairy, Eggs & Chilled Food Milk & Chilled Drinks F&N's juices and drinks are wholesome and pure. Made in Malaysia from 100% juice, Fruit Tree fresh juice contains no added sugar. This refreshing juice is perfect for kids, packed with all the vitamins and anti-oxidants of real fruit. This wonder berry and organic chia seed flavour is sweet and refreshing.\",\n",
       " 'Sweet Selection Alfort Snacks & Sweets Cookies & Biscuits wheat flour, sugar, whole milk powder, cocoa mass, shortening, cocoa butter, vegetable oil. Whole wheat flour, wheat bran, baking powder, emulsifier, salt,wheat germ',\n",
       " 'Twister Tootbrush Valuepack (Medium) Members Specials Health & Beauty Features a unique twister bristle pattern to clean in between teeth and along the gumline. Curved-trim bristles to fit the contours of your teeth and clean the surfaces. Twister tongue cleaner.',\n",
       " 'The Land of Balsamic Vinegar - The Great Vinegars of Modena and Reggio Emilia Books, Stationery & Toys Books & Magazines Aceto Balsamico di Modena PGI (Balsamic Vinegar of Modena) is one of the most reowned and exported Italian specialties. With it history of thousands of years, Balsamic Vinegar of Modena is a tradition that continues to leave and indelible mark on the culture and taste of Made-in-Italy products. we are here to protect and enhance it. we support the fastronomic excellence of our land with enthusiasm so that the original Balsamic Venegar of Modena remains the jewel of local food.',\n",
       " nan,\n",
       " 'Basmati Rice - Extra Long Members Specials Food Cupboard Basmati is known as the fragrant one among the other varieties. It has a distinctive and appealing flavour which makes it a favourite choice for chefs. The longer grain when cooked becomes much fluffier, less sticky and gets easily seperated.',\n",
       " nan,\n",
       " nan,\n",
       " nan,\n",
       " 'Organic Cranberries Food Cupboard Preserved & Dried Goods Freshly packed premium quality. A refreshment packed with vitamins, antioxidants and dietary fiber.',\n",
       " 'Play Vibrations Touch Health & Beauty Sexual Wellness Durex Play Vibrations Touch is a soft and flexible intimate massager designed for either solo use or use with your partner. This silent, reusable and waterproof stimulator provides sensual and sensational sexual pleasure for up to 30 minutes through light stroking on your erogenous areas, adding excitement and increasing pleasure and intimacy in the bedroom.',\n",
       " 'Fish Fingers with Cheese (16 pcs) Dairy, Eggs & Chilled Food Chilled Meat & Seafood Country of Orgin: Malaysia',\n",
       " \"Wholegrain Rice Food Cupboard Rice, Noodles, Pasta & Rolls Enjoy your favourite meal with a comforting and nourishing bowl of Uncle Ben's Wholegrain Rice. It has a delicious nutty flavour and chewy and firm texture that pairs well with a variety of vegetables, soups and meats. It's packed full of fibre, vitamins and minerals. No artificial flavours or preservatives.\",\n",
       " \"Cool Mint Mouthwash Health & Beauty Oral Care Listerine's Cool Mint Mouthwash has Listerine's popular bold tingle and with just 30 seconds of rinsing twice a day provides you with 24-hour protection, reducing 52% more plaque and offering 21% greater gingivitis reduction than brushing and flossing alone. The mouthwash has 100% mouth coverage, killing germs that lead to bad breath, plaque and gum disease from your whole mouth; in between and around teeth, on the palate and along the gum line.\",\n",
       " \"Premium Apple Baked Ham Frozen Food Convenience Food This product is getting close to its expiry date—don't let this get away from you! It's still safe for consumption, now enjoy it at a lower price.<br/> <br/>Quality ham for your everyday breakfast or snack. Cook before consumption.\",\n",
       " 'Cookie - Coconut Snacks & Sweets Cookies & Biscuits Non-Gmo Ingredients, Dairy-free and vegan, No preservatives.',\n",
       " 'Instant Malt Drink Powder - Chocolate Members Specials Drinks For over one hundred years, Ovaltine has been the tried and trusted hot drink of choice for many families all over the world. A soothing blend of malt and cocoa, it has earned itself the tagline ‘hug-in-a-mug’. Simply add hot milk and you will have a warm and comforting drink packed full with healthy complex carbohydrates, calcium and naturally occurring vitamins. This nutritious blend makes Ovaltine the perfect choice for your little and big, ones!',\n",
       " 'Bodywash Refill - Total 10 Members Specials Health & Beauty Lifebuoy Total 10 Body Wash is a rich, creamy body wash specially formulated with Activ Naturol Shield. This body wash performs a deep clean on your skin, reaching deep into the pores to target 10 problem-causing germs. Leave your skin feeling cleansed, lighter and refreshed with Total 10, and the confidence and security that comes with a healthy, clean body.',\n",
       " 'Pure Household & Cleaning Paper Rolls & Tissues You can use with an easy mind to the sensitive skin  with a pure and clean ingredients.',\n",
       " \"Herbs Wraps 5s Bakery Wraps, Pitas & Naans Make healthy lunches, dinners and snacks that the whole family can enjoy, with Gardenia's soft, herby wraps. Get creative in the kitchen by making wraps, pizzas or dippers - the only limit is your imagination. Each pack of five wraps comes in a resealable bag, so you can enjoy fresh wraps whenever you want them. Gardenia has been perfecting their fresh baked recipes in Singapore since 1978.\",\n",
       " 'Ve-Tsin Super Seasoning Gourmet Powder Food Cupboard Cooking Ingredients Pagoda Ve-Tsin Super Seasoning Gourmet Powder is made from cereal and is vegetarian-friendly. Sprinkle it on your favourite foods and it will make a good meal, great! This product contains 99% mono sodium glutamate (MSG) which boosts flavour and means you are able to add less salt and fat to your cooking without losing any taste.  It is a vital product to have in your store cupboard.',\n",
       " \"Cereal - Variety School Pack Food Cupboard Cereals & Cereal Bars Nestle cereals are a great way to start the day. Pour on milk or juice to give kids a healthy breakfast they'll love. Nestle Milo. koko krunch and Honey Stars cereals are full of goodness, made with wholegrains and packed with vitamins, minerals and dietry fibre to offer a healthy start to the day. Great-tasting cereals make the morning fun. This school pack is great on the go, to give the whole family a delightful breakfast.\",\n",
       " 'Frutti Duo Twist Sugarfree Pastilles - Yuzu Apple Members Specials Snacks & Sweets Ingredients: sweeteners (maltitol syrup, aspartame, acesulfame-K), thickener (gum arabic), acid (citric acid), fruit juice concentrate (yuzu, apple), flavourings, stabilizer (glycerol), acidity regulator (sodium citrate), vegetable oils (coconut, palm), glazing agent (beeswaax).',\n",
       " 'Classic Almond Butter Food Cupboard Honey, Jam & Spreads Ingredients: Dry roasted almonds, organic evaporated cane sugar, palm oil, sea salt. Contains: almond, may contain peanuts.',\n",
       " 'Almond Milk Unsweetened Vanilla Drinks Milk Products & Soy Drinks Ingredients: Almondmilk (Filtered Water, Almonds), Calcium Carbonate, Natural Flavors, Sea Salt, Potassium Citrate, Sunflower Lecithin, Gellan Gum, Vitamin A Palmitate, Vitamin D2, D-Alpha-Tocopherol (Natural Vitamin E).',\n",
       " 'Heel Cushions - Cushioning Protection Health & Beauty Body Care Scholl Heel Cushions (immediate Relief): Foam heel cushion provide relief from heel pain caused by bruises, calluses and tender spots',\n",
       " 'Distilled Vinegar - Grain Food Cupboard Cooking Ingredients Rich and flavorful rice as an ingredient is used to make cooking rice wine exclusively for dishes. The richness and mellow flavor complement the flavor of the ingredients.',\n",
       " nan,\n",
       " 'Spaghetti Food Cupboard Rice, Noodles, Pasta & Rolls Prepare an extra special meal for you and your loved ones with Kimball Spaghetti. This tasty Malaysian product is made only from the finest ingredients. It can be conveniently prepared for birthday parties, family gatherings,  special occasions, or everyday treats. It’s a good source of protein and carbohydrates.',\n",
       " nan,\n",
       " \"Scotch Bumpers Home Lighting & DIY These Scotch bumpers protect furniture from damage and scratches. The bumpers will stick to the inside of your cupboard doors and drawers, to offer simple protection to furniture against slamming. Made especially to protect cupboards and cabinets from the damage caused by constant opening and closing, and to guard against banging and noise. With 18 bumpers in a pack, you'll be able to protect cupboards and drawers throughout your home.\",\n",
       " 'Bottled Juice - Blueberry Drinks Juices & Juice Drinks R.W. knudsen Family Organic Just Blueberry Drink is made with certified organic blueberries from California. Made with all-natural ingredients, this is a beverage to be enjoyed by the whole family for its tastiness and purity. Available in 946ml container',\n",
       " 'Partito Cheese Nugget Snacks Snacks & Sweets Crisps & Popcorn Crispy, corn cheese flavour nugget snacks are the best lunchbox nibble. Kids and adults will love the delicious flavour of these tasty treats. Ideal for sharing. The ultimate snack for anyone on the go. Enjoy at home or while taking a well-earned work break. Next time you are craving a snack, reach for these ready-to-eat, golden nugget treats. Sold in 104g family size bags, to share.',\n",
       " \"Paste - Sambal Tumis Members Specials Food Cupboard Cook delicious and spicy prawns any time you want with New Moon Sambal Tumis Paste. Made only with the finest ingredients such as chilli with herbs and spices. This versatile Malay/Indonesian stir-fried chilli paste has a sweet and spicy flavour that's perfect for Nasi Lemak, Sambal Udang, grilled seafood and other dishes.\",\n",
       " \"Everything But The... Members Specials Frozen Food If what you're after is an indulgent, ask-no-questions sweet treat then you're looking for a Ben and Jerry's. And if you can't decide between the flavours? Well you're looking for the Everything But The... In this single pot you will find Peanut Butter Cups, Fudge-Covered Toffee Pieces, White Chocolatey Chunks and Fudge-Covered Almonds, all mixed into a blend of chocolate and vanilla ice cream. What more could you possibly want?\",\n",
       " '(DELETED) Australia Pork Cube Fresh Meat Pork Country of Origin: Australia',\n",
       " 'Wrapps - Original (8 pcs) Food Cupboard Rice, Noodles, Pasta & Rolls Quix Wraps are a great item to have on hand in the cupboard. Totally versatile, they can be filled with any number of toppings from meat and grilled vegetables to deli cheeses. Quix wraps can also be used as a healthy alternative to traditional pizza base',\n",
       " \"Tortas - Fine Herbs Members Specials Food Cupboard For over 20 years, Spanish cheese manufacturers' association, Quorum Internacional, has been preserving and supporting the art of Spanish cheesemaking. Apart from their vast range of cheese, the association also offer a variety of products that pair perfe\",\n",
       " 'Cocoa Dark Chocolate - Rose Snacks & Sweets Chocolate In this bar our 65% organic dark chocolate blend is combined with steam distilled organic rose essential oil. This makes an interesting comparison with the milk Rose bar – the dark cocoa solids release the scent of the oil much more gradually.',\n",
       " 'Hair Removal Cream - Lily Fragrance Members Specials Health & Beauty Veet In Shower Hair Removal Cream works close to the root even on short hair, giving you smoothness for up to four days. Veet In Shower has been designed to fit in with your busy routine: with a unique combination of water-resisting ingredients, it works while you shower so you can get on with your day. Our Dry Skin formula is enriched with Lotus Milk, known for its softening properties, and scented with Jasmine fragrance. So you’ll have not just smooth, but silky-soft, nourished skin – and hair regrowth feels softer, too.',\n",
       " 'Chicken Meat Ball Cheese Members Specials Frozen Food These Cheese Chicken Meatballs by Farmland are made with real chicken meat and have a decadent, gooey cheese middle. With crispy edges, tender meat and an addictive cheese core, this 10-pack of premium quality meatballs makes a snack that is delicious but ridiculously quick and easy to prepare. They are the perfect addition to your next party or gathering, or just to spoil your friends with a hot chicken snack in the afternoon.',\n",
       " nan,\n",
       " 'Herbs - Black Pepper Coarse Food Cupboard Cooking Ingredients Established in Canada in 1889 by William Schwartz, the son of a German immigrant, the Schwartz brand is a global leader in its field. Today, it is one of the world’s largest producers of herbs, spices, flavourings and seasonings. The company believes in supplying small quantity, top quality spices rather than poor quality bulk products. Black pepper’s bold flavour adds a powerful kick to meats and oven roasted vegetables. Add a dash of black pepper and a splash of balsamic vinegar to fresh strawberries for a gourmet dessert. This product is a must-have, store cupboard staple.',\n",
       " 'Vegetable Sauce Food Cupboard Sauces & Dressings Tasty vegetable curry with large pieces of potatoes, pumpkins and lotus roots. Enjoy spicy flavour with sweetness of vegetables.',\n",
       " 'Organic Tomato Pasta Sauce Food Cupboard Sauces & Dressings Organic tomato, organic carrot, organic celery, salt, organic basil',\n",
       " 'Bellco Cookies - Belgium Chocolate New Arrivals Snacks & Sweets Direct Import from Malaysia Bellco Belgium Choc Cookies',\n",
       " 'Tandoori Curry Paste New Arrivals Food Cupboard An award winning product. A bold blend of masala, turmeric and ginger makes this an incredibly popular dish. Gluten free and suitable for vegetarians, try mixing it with tomato puree and marinating meat or poultry, then bake or BBQ. A hot curry. Rapeseed oil, spirit vinegar, water, salt, yoghurt powder (milk), sugar, cumin, tomato, ginger, spices, lemon juice, concentrate, spice extract (chilli). Allergens: see ingredients in bold. Made in a factory using nuts. ✓ Suitable for vegetarians ✓ Gluten free No artificial preservatives.',\n",
       " 'Natsbee Honey Lemon Drink Drinks Juices & Juice Drinks Country of Origin:Malaysia',\n",
       " 'Thin Curv Chips - Sour Cream & Onion Snacks & Sweets Crisps & Popcorn Fresh and tasty thinly-sliced potato snacks. Made from 100% potato flakes imported from Europe. Great sour cream and onion flavour. Farmland Thin Curv Chips are the healthier snack. No cholesterol. No trans fat. Thin Curv Chips are Halal Certified. Conven',\n",
       " 'Sauce - Red Dates Dark Soy Food Cupboard Sauces & Dressings This Tong Foon Red Date Soy Sauce is a thick and syrupy soy sauce that has been brewed for months from premium red dates, soybeans and flour. The salty umami flavour from the fermented beans is mellowed by the sweet dates to create a flavour profile that is distinctively sweet and rich. Use this soy sauce in marinades or as a light dressing to take advantage of its unique flavour.',\n",
       " 'Tissue Travel Pack (3 Ply) Household & Cleaning Paper Rolls & Tissues These PurSoft facial tissues are soft and thick. Made from high-quality 3-ply tissue, they are perfect for use on the face out and about. With four mini-packs, you can always keep these PurSoft tissues to hand. The adorable Chocolate Rain cartoon characte',\n",
       " nan,\n",
       " \"Topmix Snacks & Sweets Cookies & Biscuits This product is getting close to its expiry date—don't let this get away from you! It's still safe for consumption, now enjoy it at a lower price.<br/><br/>Expiry Date: 2018-07-15<br/><br/>\"]"
      ]
     },
     "execution_count": 37,
     "metadata": {},
     "output_type": "execute_result"
    }
   ],
   "source": [
    "documents_list"
   ]
  },
  {
   "cell_type": "code",
   "execution_count": null,
   "metadata": {},
   "outputs": [],
   "source": []
  }
 ],
 "metadata": {
  "kernelspec": {
   "display_name": "Python 3",
   "language": "python",
   "name": "python3"
  },
  "language_info": {
   "codemirror_mode": {
    "name": "ipython",
    "version": 3
   },
   "file_extension": ".py",
   "mimetype": "text/x-python",
   "name": "python",
   "nbconvert_exporter": "python",
   "pygments_lexer": "ipython3",
   "version": "3.7.0"
  }
 },
 "nbformat": 4,
 "nbformat_minor": 2
}
