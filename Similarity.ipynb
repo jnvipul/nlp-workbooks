{
 "cells": [
  {
   "cell_type": "code",
   "execution_count": 98,
   "metadata": {},
   "outputs": [],
   "source": [
    "import gensim\n",
    "import os\n",
    "import collections\n",
    "import smart_open\n",
    "import random\n",
    "\n",
    "import pandas as pd\n",
    "import numpy as np\n",
    "\n",
    "\n",
    "from pprint import pprint\n",
    "import string\n",
    "translator = str.maketrans('', '', string.punctuation)"
   ]
  },
  {
   "cell_type": "markdown",
   "metadata": {},
   "source": [
    "# TODO\n",
    "- Remove punctuations\n",
    "- Filtering based on word count"
   ]
  },
  {
   "cell_type": "code",
   "execution_count": 13,
   "metadata": {},
   "outputs": [],
   "source": [
    "def get_train_data():\n",
    "    \"\"\"\n",
    "    SQL here \n",
    "    \"\"\"\n",
    "    data = pd.read_csv('~/Desktop/grocery_products.csv')\n",
    "    return data"
   ]
  },
  {
   "cell_type": "code",
   "execution_count": 14,
   "metadata": {},
   "outputs": [],
   "source": [
    "data = get_train_data()"
   ]
  },
  {
   "cell_type": "code",
   "execution_count": 16,
   "metadata": {},
   "outputs": [
    {
     "name": "stdout",
     "output_type": "stream",
     "text": [
      "(893626, 17)\n"
     ]
    }
   ],
   "source": [
    "print(data.shape)"
   ]
  },
  {
   "cell_type": "code",
   "execution_count": 101,
   "metadata": {},
   "outputs": [
    {
     "data": {
      "text/html": [
       "<div>\n",
       "<style scoped>\n",
       "    .dataframe tbody tr th:only-of-type {\n",
       "        vertical-align: middle;\n",
       "    }\n",
       "\n",
       "    .dataframe tbody tr th {\n",
       "        vertical-align: top;\n",
       "    }\n",
       "\n",
       "    .dataframe thead th {\n",
       "        text-align: right;\n",
       "    }\n",
       "</style>\n",
       "<table border=\"1\" class=\"dataframe\">\n",
       "  <thead>\n",
       "    <tr style=\"text-align: right;\">\n",
       "      <th></th>\n",
       "      <th>source_product_id</th>\n",
       "      <th>name</th>\n",
       "      <th>departments_name</th>\n",
       "      <th>categories_name</th>\n",
       "      <th>description_en</th>\n",
       "    </tr>\n",
       "  </thead>\n",
       "  <tbody>\n",
       "    <tr>\n",
       "      <th>0</th>\n",
       "      <td>2506104</td>\n",
       "      <td>A08. Golden Nasi Super Combo</td>\n",
       "      <td>Department - (Mchefz Cuisine Menu (mchefz-cuis...</td>\n",
       "      <td>Rice</td>\n",
       "      <td>Served with fried chicken thigh and braised be...</td>\n",
       "    </tr>\n",
       "    <tr>\n",
       "      <th>1</th>\n",
       "      <td>2682483</td>\n",
       "      <td>Honey Stars Breakfast Cereal</td>\n",
       "      <td>Food Cupboard</td>\n",
       "      <td>Cereals &amp; Cereal Bars</td>\n",
       "      <td>This product is getting close to its expiry da...</td>\n",
       "    </tr>\n",
       "    <tr>\n",
       "      <th>2</th>\n",
       "      <td>2683014</td>\n",
       "      <td>Ice Lemon Tea</td>\n",
       "      <td>Drinks</td>\n",
       "      <td>Tea</td>\n",
       "      <td>Refreshing combination of fruity flavours and ...</td>\n",
       "    </tr>\n",
       "    <tr>\n",
       "      <th>3</th>\n",
       "      <td>2768893</td>\n",
       "      <td>Anticavity Maximum Cavity Protection Toothpaste</td>\n",
       "      <td>Health &amp; Beauty</td>\n",
       "      <td>Oral Care</td>\n",
       "      <td>This product is getting close to its expiry da...</td>\n",
       "    </tr>\n",
       "    <tr>\n",
       "      <th>4</th>\n",
       "      <td>2771143</td>\n",
       "      <td>Daily Moisture Therapy Dermo-Cleanser Twin Pack</td>\n",
       "      <td>Health &amp; Beauty</td>\n",
       "      <td>Body Care</td>\n",
       "      <td>Daily Moisture Therapy Dermo-Cleanser is a hyp...</td>\n",
       "    </tr>\n",
       "  </tbody>\n",
       "</table>\n",
       "</div>"
      ],
      "text/plain": [
       "   source_product_id                                             name  \\\n",
       "0            2506104                     A08. Golden Nasi Super Combo   \n",
       "1            2682483                     Honey Stars Breakfast Cereal   \n",
       "2            2683014                                    Ice Lemon Tea   \n",
       "3            2768893  Anticavity Maximum Cavity Protection Toothpaste   \n",
       "4            2771143  Daily Moisture Therapy Dermo-Cleanser Twin Pack   \n",
       "\n",
       "                                    departments_name        categories_name  \\\n",
       "0  Department - (Mchefz Cuisine Menu (mchefz-cuis...                   Rice   \n",
       "1                                      Food Cupboard  Cereals & Cereal Bars   \n",
       "2                                             Drinks                    Tea   \n",
       "3                                    Health & Beauty              Oral Care   \n",
       "4                                    Health & Beauty              Body Care   \n",
       "\n",
       "                                      description_en  \n",
       "0  Served with fried chicken thigh and braised be...  \n",
       "1  This product is getting close to its expiry da...  \n",
       "2  Refreshing combination of fruity flavours and ...  \n",
       "3  This product is getting close to its expiry da...  \n",
       "4  Daily Moisture Therapy Dermo-Cleanser is a hyp...  "
      ]
     },
     "execution_count": 101,
     "metadata": {},
     "output_type": "execute_result"
    }
   ],
   "source": [
    "selected_data = data[['source_product_id', 'name', 'departments_name', 'categories_name', 'description_en']]\n",
    "selected_data = selected_data.head(5)\n",
    "\n",
    "selected_data"
   ]
  },
  {
   "cell_type": "markdown",
   "metadata": {},
   "source": [
    "Creating document string"
   ]
  },
  {
   "cell_type": "code",
   "execution_count": 112,
   "metadata": {},
   "outputs": [],
   "source": [
    "selected_data['document'] = selected_data['name'] + ' ' + selected_data['departments_name'] + ' ' + selected_data['categories_name'] + ' ' + selected_data['description_en']"
   ]
  },
  {
   "cell_type": "code",
   "execution_count": 113,
   "metadata": {},
   "outputs": [],
   "source": [
    "docs = selected_data['document'].tolist()"
   ]
  },
  {
   "cell_type": "code",
   "execution_count": 114,
   "metadata": {},
   "outputs": [
    {
     "data": {
      "text/plain": [
       "document    Ice Lemon Tea Drinks Tea Refreshing combinatio...\n",
       "Name: 2, dtype: object"
      ]
     },
     "execution_count": 114,
     "metadata": {},
     "output_type": "execute_result"
    }
   ],
   "source": [
    "selected_data[['document']].iloc[2]"
   ]
  },
  {
   "cell_type": "code",
   "execution_count": 115,
   "metadata": {},
   "outputs": [
    {
     "name": "stdout",
     "output_type": "stream",
     "text": [
      "[ 'A08. Golden Nasi Super Combo Department - (Mchefz Cuisine Menu '\n",
      "  '(mchefz-cuisine)) Rice Served with fried chicken thigh and braised beef and '\n",
      "  'cuttlefish, add ons available',\n",
      "  'Honey Stars Breakfast Cereal Food Cupboard Cereals & Cereal Bars This '\n",
      "  \"product is getting close to its expiry date—don't let this get away from \"\n",
      "  \"you! It's still safe for consumption, now enjoy it at a lower \"\n",
      "  'price.<br/><br/>Expiry Date: 2018-07-30<br/><br/>',\n",
      "  'Ice Lemon Tea Drinks Tea Refreshing combination of fruity flavours and real '\n",
      "  'tea leaves. Sweet cooling tea taste with a stimulating lemon flavour finish',\n",
      "  'Anticavity Maximum Cavity Protection Toothpaste Health & Beauty Oral Care '\n",
      "  \"This product is getting close to its expiry date—don't let this get away \"\n",
      "  \"from you! It's still safe for use, now enjoy it at a lower price.<br/> \"\n",
      "  '<br/>Expiry Date : 2018-10-13',\n",
      "  'Daily Moisture Therapy Dermo-Cleanser Twin Pack Health & Beauty Body Care '\n",
      "  'Daily Moisture Therapy Dermo-Cleanser is a hypoallergenic, soap-free '\n",
      "  'cleanser ideal for dry and sensitive skin. Its special formula is pH '\n",
      "  'balanced and is designed to be suitable for frequent use, gently cleansing '\n",
      "  'dry, sensitive skin with or without water to leave your skin feeling clean '\n",
      "  'and soft. This cleanser is free from preservatives, perfumes and '\n",
      "  'colourants.']\n"
     ]
    }
   ],
   "source": [
    "pp.pprint(docs)"
   ]
  },
  {
   "cell_type": "code",
   "execution_count": 118,
   "metadata": {},
   "outputs": [],
   "source": [
    "docs = [doc.translate(translator) for doc in docs]"
   ]
  },
  {
   "cell_type": "code",
   "execution_count": 119,
   "metadata": {},
   "outputs": [
    {
     "data": {
      "text/plain": [
       "'Anticavity Maximum Cavity Protection Toothpaste Health  Beauty Oral Care This product is getting close to its expiry date—dont let this get away from you Its still safe for use now enjoy it at a lower pricebr brExpiry Date  20181013'"
      ]
     },
     "execution_count": 119,
     "metadata": {},
     "output_type": "execute_result"
    }
   ],
   "source": [
    "docs[3]"
   ]
  },
  {
   "cell_type": "code",
   "execution_count": null,
   "metadata": {},
   "outputs": [],
   "source": []
  },
  {
   "cell_type": "code",
   "execution_count": 120,
   "metadata": {},
   "outputs": [],
   "source": [
    "def clean_documents(docs):\n",
    "    # remove common words and tokenize\n",
    "    stoplist = set('for a of the and to in'.split())\n",
    "    docs = [[word for word in document.lower().split() if word not in stoplist]\n",
    "             for document in docs]\n",
    "\n",
    "    # remove words that appear only once\n",
    "    from collections import defaultdict\n",
    "    frequency = defaultdict(int)\n",
    "    for text in docs:\n",
    "        for token in text:\n",
    "            frequency[token] += 2\n",
    "\n",
    "    docs = [[token for token in text if frequency[token] > 1] for text in docs]\n",
    "\n",
    "    pprint(docs)\n",
    "    return docs"
   ]
  },
  {
   "cell_type": "code",
   "execution_count": 121,
   "metadata": {},
   "outputs": [
    {
     "name": "stdout",
     "output_type": "stream",
     "text": [
      "[['a08',\n",
      "  'golden',\n",
      "  'nasi',\n",
      "  'super',\n",
      "  'combo',\n",
      "  'department',\n",
      "  'mchefz',\n",
      "  'cuisine',\n",
      "  'menu',\n",
      "  'mchefzcuisine',\n",
      "  'rice',\n",
      "  'served',\n",
      "  'with',\n",
      "  'fried',\n",
      "  'chicken',\n",
      "  'thigh',\n",
      "  'braised',\n",
      "  'beef',\n",
      "  'cuttlefish',\n",
      "  'add',\n",
      "  'ons',\n",
      "  'available'],\n",
      " ['honey',\n",
      "  'stars',\n",
      "  'breakfast',\n",
      "  'cereal',\n",
      "  'food',\n",
      "  'cupboard',\n",
      "  'cereals',\n",
      "  'cereal',\n",
      "  'bars',\n",
      "  'this',\n",
      "  'product',\n",
      "  'is',\n",
      "  'getting',\n",
      "  'close',\n",
      "  'its',\n",
      "  'expiry',\n",
      "  'date—dont',\n",
      "  'let',\n",
      "  'this',\n",
      "  'get',\n",
      "  'away',\n",
      "  'from',\n",
      "  'you',\n",
      "  'its',\n",
      "  'still',\n",
      "  'safe',\n",
      "  'consumption',\n",
      "  'now',\n",
      "  'enjoy',\n",
      "  'it',\n",
      "  'at',\n",
      "  'lower',\n",
      "  'pricebrbrexpiry',\n",
      "  'date',\n",
      "  '20180730brbr'],\n",
      " ['ice',\n",
      "  'lemon',\n",
      "  'tea',\n",
      "  'drinks',\n",
      "  'tea',\n",
      "  'refreshing',\n",
      "  'combination',\n",
      "  'fruity',\n",
      "  'flavours',\n",
      "  'real',\n",
      "  'tea',\n",
      "  'leaves',\n",
      "  'sweet',\n",
      "  'cooling',\n",
      "  'tea',\n",
      "  'taste',\n",
      "  'with',\n",
      "  'stimulating',\n",
      "  'lemon',\n",
      "  'flavour',\n",
      "  'finish'],\n",
      " ['anticavity',\n",
      "  'maximum',\n",
      "  'cavity',\n",
      "  'protection',\n",
      "  'toothpaste',\n",
      "  'health',\n",
      "  'beauty',\n",
      "  'oral',\n",
      "  'care',\n",
      "  'this',\n",
      "  'product',\n",
      "  'is',\n",
      "  'getting',\n",
      "  'close',\n",
      "  'its',\n",
      "  'expiry',\n",
      "  'date—dont',\n",
      "  'let',\n",
      "  'this',\n",
      "  'get',\n",
      "  'away',\n",
      "  'from',\n",
      "  'you',\n",
      "  'its',\n",
      "  'still',\n",
      "  'safe',\n",
      "  'use',\n",
      "  'now',\n",
      "  'enjoy',\n",
      "  'it',\n",
      "  'at',\n",
      "  'lower',\n",
      "  'pricebr',\n",
      "  'brexpiry',\n",
      "  'date',\n",
      "  '20181013'],\n",
      " ['daily',\n",
      "  'moisture',\n",
      "  'therapy',\n",
      "  'dermocleanser',\n",
      "  'twin',\n",
      "  'pack',\n",
      "  'health',\n",
      "  'beauty',\n",
      "  'body',\n",
      "  'care',\n",
      "  'daily',\n",
      "  'moisture',\n",
      "  'therapy',\n",
      "  'dermocleanser',\n",
      "  'is',\n",
      "  'hypoallergenic',\n",
      "  'soapfree',\n",
      "  'cleanser',\n",
      "  'ideal',\n",
      "  'dry',\n",
      "  'sensitive',\n",
      "  'skin',\n",
      "  'its',\n",
      "  'special',\n",
      "  'formula',\n",
      "  'is',\n",
      "  'ph',\n",
      "  'balanced',\n",
      "  'is',\n",
      "  'designed',\n",
      "  'be',\n",
      "  'suitable',\n",
      "  'frequent',\n",
      "  'use',\n",
      "  'gently',\n",
      "  'cleansing',\n",
      "  'dry',\n",
      "  'sensitive',\n",
      "  'skin',\n",
      "  'with',\n",
      "  'or',\n",
      "  'without',\n",
      "  'water',\n",
      "  'leave',\n",
      "  'your',\n",
      "  'skin',\n",
      "  'feeling',\n",
      "  'clean',\n",
      "  'soft',\n",
      "  'this',\n",
      "  'cleanser',\n",
      "  'is',\n",
      "  'free',\n",
      "  'from',\n",
      "  'preservatives',\n",
      "  'perfumes',\n",
      "  'colourants']]\n"
     ]
    }
   ],
   "source": [
    "docs = clean_documents(docs)"
   ]
  },
  {
   "cell_type": "code",
   "execution_count": 125,
   "metadata": {},
   "outputs": [],
   "source": [
    "dictionary = corpora.Dictionary(docs)\n",
    "dictionary.save(os.path.join('output_data', 'deerwester.dict'))"
   ]
  },
  {
   "cell_type": "code",
   "execution_count": 127,
   "metadata": {},
   "outputs": [
    {
     "name": "stdout",
     "output_type": "stream",
     "text": [
      "Dictionary(119 unique tokens: ['a08', 'add', 'available', 'beef', 'braised']...)\n"
     ]
    }
   ],
   "source": [
    "print(dictionary)"
   ]
  },
  {
   "cell_type": "code",
   "execution_count": null,
   "metadata": {},
   "outputs": [],
   "source": []
  }
 ],
 "metadata": {
  "kernelspec": {
   "display_name": "Python 3",
   "language": "python",
   "name": "python3"
  },
  "language_info": {
   "codemirror_mode": {
    "name": "ipython",
    "version": 3
   },
   "file_extension": ".py",
   "mimetype": "text/x-python",
   "name": "python",
   "nbconvert_exporter": "python",
   "pygments_lexer": "ipython3",
   "version": "3.7.0"
  }
 },
 "nbformat": 4,
 "nbformat_minor": 2
}
