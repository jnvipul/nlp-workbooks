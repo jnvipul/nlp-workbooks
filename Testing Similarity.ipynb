{
 "cells": [
  {
   "cell_type": "code",
   "execution_count": null,
   "metadata": {},
   "outputs": [],
   "source": [
    "# Imports\n",
    "\n",
    "import gensim\n",
    "from gensim import corpora\n",
    "from gensim import models, similarities\n",
    "from gensim.similarities import Similarity\n",
    "from gensim.models import LsiModel\n",
    "import os\n",
    "import collections\n",
    "import smart_open\n",
    "import random\n",
    "\n",
    "import pandas as pd\n",
    "import numpy as np\n",
    "\n",
    "\n",
    "from pprint import pprint\n",
    "import string"
   ]
  },
  {
   "cell_type": "code",
   "execution_count": null,
   "metadata": {},
   "outputs": [],
   "source": [
    "!ls"
   ]
  },
  {
   "cell_type": "code",
   "execution_count": null,
   "metadata": {},
   "outputs": [],
   "source": [
    "! mkdir wiki-archive\n",
    "! mv *.txt wiki-archive/"
   ]
  },
  {
   "cell_type": "code",
   "execution_count": null,
   "metadata": {},
   "outputs": [],
   "source": [
    "!ls"
   ]
  },
  {
   "cell_type": "code",
   "execution_count": null,
   "metadata": {},
   "outputs": [],
   "source": [
    "# Paths\n",
    "\n",
    "DATA_FOLDER = 'output_data'\n",
    "DICTIONARY_PATH = 'products_corpus.dict'\n",
    "MODEL_FILENAME = 'model'\n",
    "SIMILARITIES_FILENAME = 'similarities'"
   ]
  },
  {
   "cell_type": "code",
   "execution_count": null,
   "metadata": {},
   "outputs": [],
   "source": [
    "def load_dictionary():\n",
    "    \"\"\"\n",
    "    loads dictionary from the disk\n",
    "    \"\"\"\n",
    "    dictionary = corpora.Dictionary.load(os.path.join(DATA_FOLDER, DICTIONARY_PATH))\n",
    "    \n",
    "    return dictionary"
   ]
  },
  {
   "cell_type": "code",
   "execution_count": null,
   "metadata": {},
   "outputs": [],
   "source": [
    "def load_model():\n",
    "    \"\"\"\n",
    "    read model from the disk\n",
    "    \"\"\"\n",
    "    \n",
    "    model = LsiModel.load(MODEL_FILENAME)\n",
    "    return model"
   ]
  },
  {
   "cell_type": "code",
   "execution_count": null,
   "metadata": {},
   "outputs": [],
   "source": [
    "def load_similarities():\n",
    "    \"\"\"\n",
    "    read similarity indexes from list\n",
    "    \"\"\"\n",
    "    \n",
    "    index = Similarity.load(SIMILARITIES_FILENAME)\n",
    "    return index"
   ]
  },
  {
   "cell_type": "markdown",
   "metadata": {},
   "source": [
    "### Load from disk"
   ]
  },
  {
   "cell_type": "code",
   "execution_count": null,
   "metadata": {},
   "outputs": [],
   "source": [
    "model = load_model()\n",
    "dictionary = load_dictionary()\n",
    "index = load_similarities()"
   ]
  },
  {
   "cell_type": "markdown",
   "metadata": {},
   "source": [
    "### Test Sample doc"
   ]
  },
  {
   "cell_type": "code",
   "execution_count": null,
   "metadata": {},
   "outputs": [],
   "source": [
    "sample_doc = 'healthy green tea'\n",
    "# Pre - process document\n",
    "vec_bow = dictionary.doc2bow(sample_doc.lower().split())\n",
    "vec_lsi = model[vec_bow]\n",
    "print(vec_lsi)"
   ]
  },
  {
   "cell_type": "code",
   "execution_count": null,
   "metadata": {},
   "outputs": [],
   "source": [
    "similarity_scores = index[vec_lsi]\n",
    "similarity_scores = list(enumerate(similarity_scores))\n",
    "\n",
    "# Sort in descending order of similarity\n",
    "sorted_similarity_scores = sorted(similarity_scores, key=lambda tup: tup[1], reverse=True)"
   ]
  },
  {
   "cell_type": "code",
   "execution_count": null,
   "metadata": {},
   "outputs": [],
   "source": [
    "# Reading product data from disk\n",
    "def get_train_data():\n",
    "    \"\"\"\n",
    "    SQL here \n",
    "    \"\"\"\n",
    "    data = pd.read_csv('~/Desktop/grocery_products.csv')\n",
    "    return data\n",
    "\n",
    "data = get_train_data()\n",
    "selected_data = data[['source_product_id', 'name', 'departments_name', 'categories_name', 'description_en']]\n",
    "selected_data['document'] = selected_data['name'] + ' ' + selected_data['departments_name'] + ' ' + selected_data['categories_name'] + ' ' + selected_data['description_en']\n",
    "\n",
    "docs = selected_data['document'].tolist()\n",
    "product_ids = selected_data['source_product_id'].tolist()\n",
    "\n",
    "# Mapping from document index \n",
    "doc_index_to_id = {}\n",
    "for index, product_id in enumerate(product_ids):\n",
    "    doc_index_to_id[index] = product_id"
   ]
  },
  {
   "cell_type": "code",
   "execution_count": null,
   "metadata": {},
   "outputs": [],
   "source": [
    "for doc_index, score in sorted_similarity_scores[:10]:\n",
    "    product_id = doc_index_to_id[doc_index]\n",
    "    product_info = str(selected_data[selected_data['source_product_id'] == product_id]['name'])\n",
    "#     product_info += \" : \" + str(selected_data[selected_data['source_product_id'] == product_id]['description_en'])\n",
    "    print(f'{product_info} : {score}')\n",
    "#     print(str(selected_data[selected_data['source_product_id'] == product_id]['description_en']))"
   ]
  },
  {
   "cell_type": "code",
   "execution_count": null,
   "metadata": {},
   "outputs": [],
   "source": []
  }
 ],
 "metadata": {
  "kernelspec": {
   "display_name": "Python 3",
   "language": "python",
   "name": "python3"
  },
  "language_info": {
   "codemirror_mode": {
    "name": "ipython",
    "version": 3
   },
   "file_extension": ".py",
   "mimetype": "text/x-python",
   "name": "python",
   "nbconvert_exporter": "python",
   "pygments_lexer": "ipython3",
   "version": "3.7.0"
  }
 },
 "nbformat": 4,
 "nbformat_minor": 2
}
