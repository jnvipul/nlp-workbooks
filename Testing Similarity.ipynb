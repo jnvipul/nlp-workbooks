{
 "cells": [
  {
   "cell_type": "code",
   "execution_count": 101,
   "metadata": {},
   "outputs": [],
   "source": [
    "# Imports\n",
    "\n",
    "import gensim\n",
    "from gensim import corpora\n",
    "from gensim import models, similarities\n",
    "from gensim.similarities import Similarity\n",
    "from gensim.models import LsiModel\n",
    "import os\n",
    "import collections\n",
    "import smart_open\n",
    "import random\n",
    "\n",
    "import pandas as pd\n",
    "import numpy as np\n",
    "\n",
    "\n",
    "from pprint import pprint\n",
    "import string\n",
    "import re"
   ]
  },
  {
   "cell_type": "code",
   "execution_count": 3,
   "metadata": {},
   "outputs": [
    {
     "name": "stdout",
     "output_type": "stream",
     "text": [
      "Similarity.ipynb                  processed_products_data.csv\r\n",
      "Testing Similarity.ipynb          products_corpus.dict\r\n",
      "bow_classifier.py                 products_corpus.mm\r\n",
      "enwiki-latest-pages-articles1.xml products_corpus.mm.index\r\n",
      "make_text_corpus.py               similarities\r\n",
      "model                             similarities.index.npy\r\n",
      "model.projection                  \u001b[1m\u001b[36mw2v_model\u001b[m\u001b[m\r\n",
      "model.projection.u.npy            \u001b[1m\u001b[36mwiki-archive\u001b[m\u001b[m\r\n",
      "\u001b[1m\u001b[36moutput_data\u001b[m\u001b[m                       word2vec.ipynb\r\n",
      "pretrained_glove.py\r\n"
     ]
    }
   ],
   "source": [
    "!ls"
   ]
  },
  {
   "cell_type": "code",
   "execution_count": 205,
   "metadata": {},
   "outputs": [],
   "source": [
    "def remove_punctuation(row):\n",
    "#     row['document'] = row['document'].translate(translator)\n",
    "    row['name'] = row['name'].decode(\"utf-8\").translate(translator)\n",
    "    row['departments_name'] = row['departments_name'].decode(\"utf-8\").translate(translator)\n",
    "    row['categories_name'] = row['categories_name'].decode(\"utf-8\").translate(translator)\n",
    "    description = row['description_en']\n",
    "    row['description_en'] = row['description_en'].decode(\"utf-8\").translate(translator)\n",
    "    return row"
   ]
  },
  {
   "cell_type": "code",
   "execution_count": 207,
   "metadata": {},
   "outputs": [],
   "source": [
    "def remove_unicode(series):\n",
    "    return [s.encode('ascii', 'ignore').strip()\n",
    "               for s in series.str.decode('unicode_escape')]"
   ]
  },
  {
   "cell_type": "code",
   "execution_count": 179,
   "metadata": {},
   "outputs": [
    {
     "name": "stdout",
     "output_type": "stream",
     "text": [
      "Similarity.ipynb                  processed_products_data.csv\r\n",
      "Testing Similarity.ipynb          products_corpus.dict\r\n",
      "bow_classifier.py                 products_corpus.mm\r\n",
      "enwiki-latest-pages-articles1.xml products_corpus.mm.index\r\n",
      "make_text_corpus.py               similarities\r\n",
      "model                             similarities.index.npy\r\n",
      "model.projection                  \u001b[1m\u001b[36mw2v_model\u001b[m\u001b[m\r\n",
      "model.projection.u.npy            \u001b[1m\u001b[36mwiki-archive\u001b[m\u001b[m\r\n",
      "\u001b[1m\u001b[36moutput_data\u001b[m\u001b[m                       word2vec.ipynb\r\n",
      "pretrained_glove.py\r\n"
     ]
    }
   ],
   "source": [
    "!ls"
   ]
  },
  {
   "cell_type": "code",
   "execution_count": 180,
   "metadata": {},
   "outputs": [],
   "source": [
    "# Paths\n",
    "\n",
    "DATA_FOLDER = 'output_data'\n",
    "DICTIONARY_PATH = 'products_corpus.dict'\n",
    "MODEL_FILENAME = 'model'\n",
    "SIMILARITIES_FILENAME = 'similarities'"
   ]
  },
  {
   "cell_type": "code",
   "execution_count": 181,
   "metadata": {},
   "outputs": [],
   "source": [
    "def load_dictionary():\n",
    "    \"\"\"\n",
    "    loads dictionary from the disk\n",
    "    \"\"\"\n",
    "    dictionary = corpora.Dictionary.load(DICTIONARY_PATH)\n",
    "    \n",
    "    return dictionary"
   ]
  },
  {
   "cell_type": "code",
   "execution_count": 182,
   "metadata": {},
   "outputs": [],
   "source": [
    "def load_model():\n",
    "    \"\"\"\n",
    "    read model from the disk\n",
    "    \"\"\"\n",
    "    \n",
    "    model = LsiModel.load(MODEL_FILENAME)\n",
    "    return model"
   ]
  },
  {
   "cell_type": "code",
   "execution_count": 183,
   "metadata": {},
   "outputs": [],
   "source": [
    "def load_similarities():\n",
    "    \"\"\"\n",
    "    read similarity indexes from list\n",
    "    \"\"\"\n",
    "    \n",
    "    index = Similarity.load(SIMILARITIES_FILENAME)\n",
    "    return index"
   ]
  },
  {
   "cell_type": "markdown",
   "metadata": {},
   "source": [
    "### Load from disk"
   ]
  },
  {
   "cell_type": "code",
   "execution_count": 184,
   "metadata": {},
   "outputs": [],
   "source": [
    "model = load_model()\n",
    "dictionary = load_dictionary()\n",
    "index = load_similarities()"
   ]
  },
  {
   "cell_type": "code",
   "execution_count": 185,
   "metadata": {},
   "outputs": [
    {
     "name": "stdout",
     "output_type": "stream",
     "text": [
      "Similarity.ipynb                  processed_products_data.csv\r\n",
      "Testing Similarity.ipynb          products_corpus.dict\r\n",
      "bow_classifier.py                 products_corpus.mm\r\n",
      "enwiki-latest-pages-articles1.xml products_corpus.mm.index\r\n",
      "make_text_corpus.py               similarities\r\n",
      "model                             similarities.index.npy\r\n",
      "model.projection                  \u001b[1m\u001b[36mw2v_model\u001b[m\u001b[m\r\n",
      "model.projection.u.npy            \u001b[1m\u001b[36mwiki-archive\u001b[m\u001b[m\r\n",
      "\u001b[1m\u001b[36moutput_data\u001b[m\u001b[m                       word2vec.ipynb\r\n",
      "pretrained_glove.py\r\n"
     ]
    }
   ],
   "source": [
    "!ls"
   ]
  },
  {
   "cell_type": "markdown",
   "metadata": {},
   "source": [
    "### Test Sample doc"
   ]
  },
  {
   "cell_type": "code",
   "execution_count": 186,
   "metadata": {},
   "outputs": [],
   "source": [
    "\n",
    "# print(vec_lsi)"
   ]
  },
  {
   "cell_type": "code",
   "execution_count": null,
   "metadata": {},
   "outputs": [],
   "source": []
  },
  {
   "cell_type": "code",
   "execution_count": 209,
   "metadata": {},
   "outputs": [
    {
     "name": "stdout",
     "output_type": "stream",
     "text": [
      "<class 'pandas.core.frame.DataFrame'>\n",
      "RangeIndex: 1000 entries, 0 to 999\n",
      "Data columns (total 18 columns):\n",
      "name                 1000 non-null object\n",
      "departments_name     1000 non-null object\n",
      "categories_name      1000 non-null object\n",
      "description_en       1000 non-null object\n",
      "catalog_name         1000 non-null object\n",
      "price                1000 non-null float64\n",
      "bulkiness            1000 non-null int64\n",
      "is_fragile           1000 non-null bool\n",
      "is_perishable        1000 non-null bool\n",
      "weight               1000 non-null float64\n",
      "country_of_origin    1000 non-null object\n",
      "tradename_en         1000 non-null object\n",
      "url                  1000 non-null object\n",
      "image_url            1000 non-null object\n",
      "source_product_id    1000 non-null int64\n",
      "source_brand_id      1000 non-null int64\n",
      "source_catalog_id    1000 non-null int64\n",
      "source_country_id    1000 non-null int64\n",
      "dtypes: bool(2), float64(2), int64(5), object(9)\n",
      "memory usage: 127.0+ KB\n",
      "None\n"
     ]
    }
   ],
   "source": [
    "# Reading product data from disk\n",
    "def get_train_data():\n",
    "    \"\"\"\n",
    "    SQL here \n",
    "    \"\"\"\n",
    "    data = pd.read_csv('~/Desktop/grocery_products.csv')\n",
    "    return data\n",
    "\n",
    "data = get_train_data()\n",
    "data = data.head(1000)\n",
    "data = data.replace(np.nan, '', regex=True)\n",
    "\n",
    "data['name'] = remove_unicode(data['name'])\n",
    "data['departments_name'] = remove_unicode(data['departments_name'])\n",
    "data['categories_name'] = remove_unicode(data['categories_name'])\n",
    "data['description_en'] = remove_unicode(data['description_en'])\n",
    "\n",
    "data = data.apply(remove_punctuation, axis=1)\n",
    "print(data.info())"
   ]
  },
  {
   "cell_type": "code",
   "execution_count": 210,
   "metadata": {},
   "outputs": [
    {
     "name": "stderr",
     "output_type": "stream",
     "text": [
      "/Users/vipul/anaconda3/lib/python3.7/site-packages/ipykernel_launcher.py:2: SettingWithCopyWarning: \n",
      "A value is trying to be set on a copy of a slice from a DataFrame.\n",
      "Try using .loc[row_indexer,col_indexer] = value instead\n",
      "\n",
      "See the caveats in the documentation: http://pandas.pydata.org/pandas-docs/stable/indexing.html#indexing-view-versus-copy\n",
      "  \n"
     ]
    }
   ],
   "source": [
    "selected_data = data[['source_product_id', 'name', 'departments_name', 'categories_name', 'description_en', 'image_url']]\n",
    "selected_data['document'] = selected_data['name'] + ' ' + selected_data['departments_name'] + ' ' + selected_data['categories_name'] + ' ' + selected_data['description_en']\n",
    "# save dataset to file\n",
    "selected_data.to_csv('processed_products_data.csv')\n",
    "docs = selected_data['document'].tolist()\n",
    "product_ids = selected_data['source_product_id'].tolist()\n",
    "\n",
    "# Mapping from document index \n",
    "doc_index_to_id = {}\n",
    "for index, product_id in enumerate(product_ids):\n",
    "    doc_index_to_id[index] = product_id"
   ]
  },
  {
   "cell_type": "markdown",
   "metadata": {},
   "source": [
    "## Create Data for UI"
   ]
  },
  {
   "cell_type": "code",
   "execution_count": 211,
   "metadata": {},
   "outputs": [],
   "source": [
    "data_for_ui = selected_data[['source_product_id', 'name']]"
   ]
  },
  {
   "cell_type": "code",
   "execution_count": 212,
   "metadata": {},
   "outputs": [],
   "source": [
    "data_for_ui = data_for_ui.sample(frac=1)\n",
    "data_for_ui.rename(columns={'source_product_id':'id'}, \n",
    "                 inplace=True)\n",
    "dfui = data_for_ui.head(500)"
   ]
  },
  {
   "cell_type": "code",
   "execution_count": 213,
   "metadata": {},
   "outputs": [
    {
     "data": {
      "text/plain": [
       "'[{\"id\":5627136,\"name\":\"Ebi  Gratin Shrimp  Cheese\"},{\"id\":5029878,\"name\":\"Yam Bun\"},{\"id\":4774236,\"name\":\"Tempura Prawn 5 Pcs\"},{\"id\":4978902,\"name\":\"Sarsaparilla Traditional Soda\"},{\"id\":2877319,\"name\":\"Dairy Cheerfully Chiko Ice Cream\"},{\"id\":5162281,\"name\":\"Artisan Nuts  Nutty Pop\"},{\"id\":5015026,\"name\":\"Summer Azumi Wasabi\"},{\"id\":5439920,\"name\":\"Korean Burdock Crispy Chips\"},{\"id\":935392,\"name\":\"Pro 1 Probiotics\"},{\"id\":2769524,\"name\":\"Chicken Curry with Potatoes\"},{\"id\":2768948,\"name\":\"Women AntiPerspirant Deodorant Spray  Advanced Whitening\"},{\"id\":3030988,\"name\":\"Durum Wheat Spaghetti\"},{\"id\":4981154,\"name\":\"Glass Wipes 177cm x 279cm\"},{\"id\":3561264,\"name\":\"Coco Water\"},{\"id\":5439188,\"name\":\"Instant Noodle Shio Ramen\"},{\"id\":5607763,\"name\":\"DUPLICATED Soda Water\"},{\"id\":5046852,\"name\":\"Coconut Oil Retail Pack\"},{\"id\":5626850,\"name\":\"Concentrated Laundry Detergent Liquid Superior Clothes Care\"},{\"id\":2893284,\"name\":\"Chocolate Swirl Pound Cake\"},{\"id\":4980934,\"name\":\"Tuna Sandwich Spread  Floss\"},{\"id\":2736219,\"name\":\"Glucose Blackcurrant Fruit Drink\"},{\"id\":4981300,\"name\":\"Dolce Gusto Beverage Capsules  Cafe Au Lait Intenso\"},{\"id\":5162355,\"name\":\"Nonya Kaya\"},{\"id\":4935017,\"name\":\"Merries Walker Pants XL 38S  Carton\"},{\"id\":5042635,\"name\":\"Truffle Salami airdried Presliced\"},{\"id\":3031124,\"name\":\"Rambutan in Syrup\"},{\"id\":2878302,\"name\":\"15 LowFat Swiss Premium Yogurt  Pineapple\"},{\"id\":5340545,\"name\":\"Dumex Dugro Stage 4 Growing Up Kid Milk Formula 16kg\"},{\"id\":5242871,\"name\":\"Green Tea Bathroom Tissue\"},{\"id\":5159283,\"name\":\"Traditional Balsamic Vinegar  Gold Seal Aged 50 Years\"},{\"id\":5240529,\"name\":\"Lip Balm Tinted Strawberry\"},{\"id\":5621832,\"name\":\"Earls Melon\"},{\"id\":2889236,\"name\":\"Preserved Duck Eggs 4s\"},{\"id\":3510574,\"name\":\"Mango Flavoured Pound Cake\"},{\"id\":2878421,\"name\":\"Home Style Minestrone\"},{\"id\":4979747,\"name\":\"Liquid Dish Soap  Lemon Verbena\"},{\"id\":2771788,\"name\":\"Daily Moisture Therapy Body Lotion\"},{\"id\":2877740,\"name\":\"Life Scents MultiLayered Fragrance  Linen In The Air Freshmatic Refills\"},{\"id\":5030671,\"name\":\"Umi No Sachi No Funwari Yoseage\"},{\"id\":5012680,\"name\":\"Garlic Powder\"},{\"id\":2768837,\"name\":\"Standard Pants XL 1217 Kg\"},{\"id\":2876162,\"name\":\"Espresso Pienaroma Coffee Beans\"},{\"id\":2771774,\"name\":\"MotionSense Men AntiPerspirant Deodorant RollOn  Invisible Dry\"},{\"id\":5047775,\"name\":\"Kaluga Huso Dauricus Caviar\"},{\"id\":5161493,\"name\":\"Conference Pears\"},{\"id\":2682750,\"name\":\"Charcoal Roasted White Coffee Roasted Hazelnut 3 in 1\"},{\"id\":5066913,\"name\":\"Active Clear Acne Clearing Cleanser\"},{\"id\":3180765,\"name\":\"Gold Mayonnaise\"},{\"id\":4640425,\"name\":\"Black Dessert Plate 20 PlatesPack\"},{\"id\":2620726,\"name\":\"AntiBacterial Fabric Conditioner Pouch\"},{\"id\":5438949,\"name\":\"HiSoft Candy  Caramel Milk\"},{\"id\":2977121,\"name\":\"Gold Sweet Potato\"},{\"id\":2889210,\"name\":\"Vitagen Less Sugar 5s\"},{\"id\":2976822,\"name\":\"Kiss Mom Marinated Chicken Wing Original Flavour\"},{\"id\":5011310,\"name\":\"Pasted Miso  Miso Sauce Sweet Taste\"},{\"id\":5046070,\"name\":\"Refried Black Beans  Vegetarian Organic\"},{\"id\":4452954,\"name\":\"Cheese Sauce Mix\"},{\"id\":4365611,\"name\":\"Organic S2\"},{\"id\":2875627,\"name\":\"Green Amazon Pepper Sauce\"},{\"id\":2889194,\"name\":\"Swiss Premium Yogurt Drink  Blueberry\"},{\"id\":2877241,\"name\":\"Scotch Brite Light Duty Scrub Sponge\"},{\"id\":5044269,\"name\":\"Harvest Snaps Green Pea Crisps Wasabi Ranch\"},{\"id\":5045237,\"name\":\"Chocolate Malt UHT Packet Drink\"},{\"id\":4160401,\"name\":\"Rose Bandung with Pandan Drink\"},{\"id\":5607469,\"name\":\"Hair Conditioner  Hair Fall Solution\"},{\"id\":2876470,\"name\":\"Partito Original Prawn Sticks\"},{\"id\":5047533,\"name\":\"Otona No Hitotoki Lady Borden Strawberry Bar\"},{\"id\":5427403,\"name\":\"Baby Diapers Pants Jumbo pack M 54pcs\"},{\"id\":2981038,\"name\":\"Almond Crush 2 pcs\"},{\"id\":5161977,\"name\":\"Honey Citron Tea\"},{\"id\":2771624,\"name\":\"Bleach Pen Gel for Whites\"},{\"id\":5043296,\"name\":\"Classic Vegetable\"},{\"id\":5014718,\"name\":\"Medium Toothbrush\"},{\"id\":4981908,\"name\":\"Shampoo  Moisture Rich\"},{\"id\":2770228,\"name\":\"Optic White Instant White Toothpaste\"},{\"id\":2977614,\"name\":\"Lotus Seed Pau 6 pcs\"},{\"id\":5012379,\"name\":\"Premium Pure Australian Honey  Wild Forest\"},{\"id\":5603456,\"name\":\"Liquid Detergent Bottle  Stain Buster\"},{\"id\":5011938,\"name\":\"Tea bags  40s Pyramid\"},{\"id\":5240443,\"name\":\"Cheesy Straws\"},{\"id\":4978857,\"name\":\"Lattice Potato Crisp  Natural Sea Salt\"},{\"id\":5014030,\"name\":\"Lozenges  Orange With Vitamin C\"},{\"id\":4448453,\"name\":\"Natural Bitter Lemonade Cloudy Lemon and Quinine\"},{\"id\":2682812,\"name\":\"Tuna  Mayonnaise\"},{\"id\":4979068,\"name\":\"Macrobiotic Sea Salt  Rock\"},{\"id\":4981529,\"name\":\"Stevia\"},{\"id\":2878573,\"name\":\"Fabric Stain Remover Powder\"},{\"id\":2772117,\"name\":\"Penang Vegemee Vegetarian Flavour\"},{\"id\":4978732,\"name\":\"Sweet sake Amazake Plain\"},{\"id\":5431992,\"name\":\"Baked Sweet Potato Cookies\"},{\"id\":2911081,\"name\":\"DELETED Australia Pork Shoulder Butt\"},{\"id\":4448835,\"name\":\"Rich  Aromatic Mint Sauce\"},{\"id\":2876545,\"name\":\"Whole Shrimp Dumpling 12 pcs\"},{\"id\":2771227,\"name\":\"Premium Black Beans\"},{\"id\":2769159,\"name\":\"Milk Coffee Canned Drink  Original\"},{\"id\":5242744,\"name\":\"FoodSafe Wipes\"},{\"id\":4978739,\"name\":\"Rice cracker  Sansho\"},{\"id\":4981842,\"name\":\"VapoRub Vaporizing Ointment\"},{\"id\":2728621,\"name\":\"Milk and Peanut Flavour Oat Digestive Cracker\"},{\"id\":2876108,\"name\":\"Caffe Espresso Ground Coffee Medium Roast\"},{\"id\":5608077,\"name\":\"3 In 1 Royal Jelly Shower Milk\"},{\"id\":4453277,\"name\":\"Washing Up Liquid Lemon  Aloe\"},{\"id\":5047864,\"name\":\"Lacto Chicken Wing\"},{\"id\":5045989,\"name\":\"Yogis Fruit Snack  Strawberry\"},{\"id\":2977799,\"name\":\"Kaki Persimmons\"},{\"id\":5160673,\"name\":\"DELETED Aoren Kibou No Shizuku Drop of Hope\"},{\"id\":5011019,\"name\":\"Fun Baking Cases\"},{\"id\":4453412,\"name\":\"Can Drink  Organic Sparkling Apple\"},{\"id\":2910951,\"name\":\"Black Chia Seed\"},{\"id\":5161485,\"name\":\"Natural Coconut Soap  Honeysuckle\"},{\"id\":2792591,\"name\":\"Fried Dace with Salted Black Beans\"},{\"id\":4739775,\"name\":\"Roast Chicken Seasoning\"},{\"id\":2875409,\"name\":\"Sesame Soy Sauce\"},{\"id\":5247765,\"name\":\"Pasta  Collezione Cannelloni\"},{\"id\":2876104,\"name\":\"Pastrami Corned Beef\"},{\"id\":5014948,\"name\":\"Shoyu Ramen Meat Free\"},{\"id\":5606285,\"name\":\"Jyaji Gyunyu soft\"},{\"id\":5011270,\"name\":\"Honey  West Coast\"},{\"id\":2876555,\"name\":\"Pandan Lotus Bun 9 pcs\"},{\"id\":5044886,\"name\":\"Classic Gourmet Instant Coffee\"},{\"id\":5030923,\"name\":\"Extra Virgin Olive Spread\"},{\"id\":2980986,\"name\":\"Ice Apple Tea\"},{\"id\":5014730,\"name\":\"Purees  Sweet Potato Apple  Corn\"},{\"id\":4980690,\"name\":\"Natural Baked Walnut\"},{\"id\":2682716,\"name\":\"Dark Peppermint Chocolate Slab\"},{\"id\":3189074,\"name\":\"Nonya Kaya\"},{\"id\":5161401,\"name\":\"Yasaiseikatsu 100 Fruity Salad Vegetable  Fruit Juice\"},{\"id\":5161738,\"name\":\"Spices  Black Pepper\"},{\"id\":5439729,\"name\":\"Moonlight Cookie\"},{\"id\":2877786,\"name\":\"Teriyaki Marinade Original Flavour\"},{\"id\":5030337,\"name\":\"Low Fat Yoghurt  Nata De Coco\"},{\"id\":5163180,\"name\":\"Irish Pork Sausage\"},{\"id\":2771947,\"name\":\"Instant Vermicelli Chicken Flavour\"},{\"id\":4981255,\"name\":\"Charcoal Briquets with Mesquite  Bold  Smoky Flavour\"},{\"id\":4981525,\"name\":\"Strawberry\"},{\"id\":4982315,\"name\":\"Leibniz Wholemeal Biscuit\"},{\"id\":4452837,\"name\":\"Pud in a Mug Sponge Pud Rich Chocolate\"},{\"id\":2878649,\"name\":\"Thailand Premium Red Cargo Rice\"},{\"id\":5042625,\"name\":\"Oliva Salami airdried Presliced\"},{\"id\":2876069,\"name\":\"Whole Corn  Whole Young Corn\"},{\"id\":5078879,\"name\":\"Kotex Pads Luxe Ultra Thin Wing Overnight 28cm\"},{\"id\":2977447,\"name\":\"Premium Grade Dark Soy Sauce\"},{\"id\":5012631,\"name\":\"Sliced Golden Greek Peperoncini\"},{\"id\":5438596,\"name\":\"Ground Coffee Espresso Medium Roast\"},{\"id\":4981136,\"name\":\"Grinder  Duck  Poultry\"},{\"id\":5427411,\"name\":\"Organic Baby Top to Toe Wash 400ml\"},{\"id\":2878187,\"name\":\"Lacto Organic Chicken Thigh\"},{\"id\":1045727,\"name\":\"Pro 1 Probiotics\"},{\"id\":5047304,\"name\":\"Reduced Sugar Drink  Water Chestnut  Sugar Cane\"},{\"id\":5046689,\"name\":\"Gummy Candy  Snakes Alive\"},{\"id\":5041800,\"name\":\"Rabbitfish\"},{\"id\":5159974,\"name\":\"Spread  Almond  Chia\"},{\"id\":2878284,\"name\":\"Buffalo Spicy Drummet\"},{\"id\":4980310,\"name\":\"Spread  Scottish Blackcurrant Preserve\"},{\"id\":2768828,\"name\":\"Sensitive Skin Nourishing Body Wash\"},{\"id\":5603582,\"name\":\"Slim Non Wings Pad 24 cm\"},{\"id\":5159320,\"name\":\"Crab Meat Beni Zuwai\"},{\"id\":5161569,\"name\":\"Bottle Drink  Apple and Ginger Juice\"},{\"id\":5161624,\"name\":\"Organic Coriander Seed\"},{\"id\":2792610,\"name\":\"Crispy Prawn Chilli\"},{\"id\":5439756,\"name\":\"Kappa Ebisen Ebi Chili\"},{\"id\":4756343,\"name\":\"Sweet Pepper Chilli Jam\"},{\"id\":5078894,\"name\":\"Hb Water Gel\"},{\"id\":2682858,\"name\":\"Natural Mineral Water\"},{\"id\":3030975,\"name\":\"Organic Buckwheat Flour\"},{\"id\":2896773,\"name\":\"Organic Free Range Chicken Broth\"},{\"id\":4978994,\"name\":\"Shichimi Togarashi  Garam Masala\"},{\"id\":5439892,\"name\":\"Calrose Rice\"},{\"id\":5030601,\"name\":\"Reito Mikan\"},{\"id\":5029822,\"name\":\"Ice Cream Bar  Melona Strawberry\"},{\"id\":5013709,\"name\":\"Bottle Drink  Comfort Aloe Vera Watermelon  Peach\"},{\"id\":4981850,\"name\":\"100 Antibacterial Bamboo Organic Wipes  Unbleached\"},{\"id\":4136852,\"name\":\"Tomato Ketchup\"},{\"id\":5045458,\"name\":\"Cold Cream Cleanser\"},{\"id\":2976904,\"name\":\"Vintage Block Natural Cheddar Cheese\"},{\"id\":4275766,\"name\":\"Baby Dry Pants L 914kg\"},{\"id\":4979904,\"name\":\"Salt Grinder  Himalayan Pink\"},{\"id\":2728992,\"name\":\"Ayam Cream of Chicken Soup\"},{\"id\":5439067,\"name\":\"Ryorishu Japanese Cooking Seasoning\"},{\"id\":5013826,\"name\":\"Greek Dressing  Marinade with Avocado Oil\"},{\"id\":4452858,\"name\":\"Crunchy Oat Granola Tropical Fruits\"},{\"id\":4978936,\"name\":\"Chicken Marinade\"},{\"id\":4981138,\"name\":\"Grinder  Sea Salt\"},{\"id\":2875888,\"name\":\"Golden Raisin\"},{\"id\":5031535,\"name\":\"Raspberries\"},{\"id\":2918069,\"name\":\"Honey Jackfruit  Peeled\"},{\"id\":5014487,\"name\":\"Gluten Free Whey Powder\"},{\"id\":5011927,\"name\":\"Giant Chocolate Stars Milk  White\"},{\"id\":5043406,\"name\":\"Pulses  Rice  Chickpea Harissa  Lemon\"},{\"id\":5603486,\"name\":\"Bottled Honey Lemon With Lemon Juice  Honey\"},{\"id\":5612879,\"name\":\"Hachiwari Soba\"},{\"id\":5162285,\"name\":\"Can  Radler Lemon\"},{\"id\":5014005,\"name\":\"Antiseptic Germicide\"},{\"id\":5439634,\"name\":\"Ripe Raspberries Confectionery\"},{\"id\":2878254,\"name\":\"Frozen Pork Burger Patty\"},{\"id\":2896797,\"name\":\"Tofu Puff\"},{\"id\":2771200,\"name\":\"Mini Mentos Rainbow\"},{\"id\":4979372,\"name\":\"Seasons Ice Lemon Tea\"},{\"id\":2977206,\"name\":\"Onion and Tomato Light Tuna\"},{\"id\":5045843,\"name\":\"3 in 1 Instant Supreme White Coffee\"},{\"id\":5047218,\"name\":\"Cakoi Mini Yutiao\"},{\"id\":4979197,\"name\":\"Paste  Hainanese Chicken Rice\"},{\"id\":2728853,\"name\":\"Sweetened Creamer\"},{\"id\":2878553,\"name\":\"Crema E Aroma Coffee Beans Medium Roast\"},{\"id\":5162005,\"name\":\"Profiiteroles with Chocolate Sauce\"},{\"id\":5251171,\"name\":\"Organic Whole Grain  Corn Flour\"},{\"id\":2877307,\"name\":\"15 LowFat Swiss Premium Yogurt  Plain\"},{\"id\":5429689,\"name\":\"Deodorizing Powder for Shoes\"},{\"id\":5161679,\"name\":\"Wings Blue Lock Care Pads  Heavy Overnight\"},{\"id\":2878050,\"name\":\"Butter Peanuts\"},{\"id\":3180854,\"name\":\"Fennel Seeds\"},{\"id\":5594867,\"name\":\"Jalapeno Onion Relish\"},{\"id\":5042112,\"name\":\"The Honest American Beef Patty\"},{\"id\":1217443,\"name\":\"Organic Stage 1 Infant Formula\"},{\"id\":2876635,\"name\":\"Frozen Chicken Burger Patty Herbs\"},{\"id\":5044620,\"name\":\"Family Milk  Nutritious Milk Based Powder\"},{\"id\":5014482,\"name\":\"Corn Thins  Tasty Cheese\"},{\"id\":2620718,\"name\":\"Blue Plus II Disposable Razor\"},{\"id\":2769591,\"name\":\"Milo Breakfast Cereal\"},{\"id\":2876320,\"name\":\"Natural Oats with Calcium Crackers\"},{\"id\":5552430,\"name\":\"Airbnb\"},{\"id\":2769694,\"name\":\"Pure Australian Honey\"},{\"id\":5159349,\"name\":\"Drip Coffee Special Blend\"},{\"id\":5011058,\"name\":\"Extra Strong Peppermint Mints 4 Rolls\"},{\"id\":5046703,\"name\":\"Thai Green Curry Paste\"},{\"id\":2768906,\"name\":\"Shower Cream White Impress\"},{\"id\":4452846,\"name\":\"EERIOS MULTIGRAIN Cereal\"},{\"id\":2976824,\"name\":\"Mature Cheddar Rich  Smooth for Full Flavour\"},{\"id\":2769053,\"name\":\"Perfume Collection Romance Concentrate Fabric Conditioner\"},{\"id\":4981149,\"name\":\"Cleaner  Glass\"},{\"id\":5247898,\"name\":\"Rice Granola  Maple\"},{\"id\":2875949,\"name\":\"Organic Soy NonDairy Beverage Original Unsweetened\"},{\"id\":5621967,\"name\":\"Frozen Baguettes  Small\"},{\"id\":5439273,\"name\":\"Dashi Bottle Drink Additive Free\"},{\"id\":5014725,\"name\":\"Peanut Butter Dark Chocolate\"},{\"id\":5439256,\"name\":\"Liquid Miso with Dashi  Assorted 4 types of miso\"},{\"id\":3189140,\"name\":\"Hot Chicken Flavor Cup Ramen 2X Spicy\"},{\"id\":2875286,\"name\":\"Premium Sushi Rice\"},{\"id\":4982120,\"name\":\"Durum Wheat Semolina Pasta  Sedani Rigati N45\"},{\"id\":855024,\"name\":\"1 With LComfortis And Iron\"},{\"id\":4981025,\"name\":\"Premium Wash  Wax  Protect\"},{\"id\":2875930,\"name\":\"Orange Fruit Juice\"},{\"id\":5044510,\"name\":\"Original Table Water Crackers\"},{\"id\":5250828,\"name\":\"Gluten Free Homemade Wonderful Bread Mix\"},{\"id\":4981816,\"name\":\"Black Series Black Coffee  Original\"},{\"id\":2768832,\"name\":\"Cream MultiSurface Cleaner Original\"},{\"id\":5253072,\"name\":\"Salted Eggs\"},{\"id\":5045528,\"name\":\"Cough  Cold Caplets\"},{\"id\":2772158,\"name\":\"Intensive Moisturising Cleanser\"},{\"id\":2682575,\"name\":\"Chocolate Stripe Peanut Butter\"},{\"id\":5080403,\"name\":\"Organic Handwash\"},{\"id\":5045353,\"name\":\"Packet Fruit Drink  Orange\"},{\"id\":2875644,\"name\":\"Freshmatic Compact Refill\"},{\"id\":2877978,\"name\":\"Green Peas Special Grade\"},{\"id\":5014196,\"name\":\"Truffle  Butter Cream\"},{\"id\":5106851,\"name\":\"Sauce  Red Seabream Shirodashi\"},{\"id\":5014649,\"name\":\"Indian Tikka Masala Paste\"},{\"id\":5044832,\"name\":\"Prawn Sauce Crackers\"},{\"id\":5429741,\"name\":\"Hello Panda Biscuits  Chocolate\"},{\"id\":4982274,\"name\":\"Cocoa Dark Chocolate  Perfectly Normal\"},{\"id\":5011751,\"name\":\"Quality Tennessee Style Barbecue Glaze Smokey Sweet\"},{\"id\":5011725,\"name\":\"Classic Vegetable Soup\"},{\"id\":2875671,\"name\":\"Nyonya Curry Laksa Instant Noodle\"},{\"id\":5159390,\"name\":\"SlimSoft Charcoal Toothbrush Valuepack Ultra Soft\"},{\"id\":5046691,\"name\":\"Tomato Sugo with Olive  Caper\"},{\"id\":5012051,\"name\":\"Crisp  Thin  Sea Salt  Vinegar Sharing Crisps\"},{\"id\":3189015,\"name\":\"Pure Corn Flour\"},{\"id\":5613226,\"name\":\"Jam  Blueberry\"},{\"id\":5043650,\"name\":\"Crisp  Thin  Sweet Red Chilli Sharing Crisps\"},{\"id\":2768916,\"name\":\"Gum Care Black Tea Toothbrush\"},{\"id\":5048089,\"name\":\"Pork Chipolata Coarse\"},{\"id\":5047841,\"name\":\"Smoked Mackerel Fillet  Pepper\"},{\"id\":5046494,\"name\":\"Truffle Thrills  Cream and Truffles\"},{\"id\":5160884,\"name\":\"Sunflower Seeds  Original\"},{\"id\":2770818,\"name\":\"Scotch Brite Heavy Duty Outdoor Gloves S\"},{\"id\":4981216,\"name\":\"Clean Up All Purpose Cleaner with Bleach  Levender\"},{\"id\":5044650,\"name\":\"Pesto  Sundried Tomato\"},{\"id\":2877233,\"name\":\"Scotch Brite Stainless Steel Spiral Ball\"},{\"id\":2769644,\"name\":\"Lemon Lime Isotonic Drink\"},{\"id\":2977668,\"name\":\"Vegetarian Oyster Sauce\"},{\"id\":4982338,\"name\":\"Sugar  Cubes\"},{\"id\":5438944,\"name\":\"Moonlight Soft Cake\"},{\"id\":5030561,\"name\":\"Full Cream Yoghurt  Mixed Berries\"},{\"id\":3628470,\"name\":\"Time Out\"},{\"id\":2770305,\"name\":\"Sugar Free Lemon Lozenges\"},{\"id\":5159190,\"name\":\"Korean Pumpkin Crispy Chips\"},{\"id\":2587845,\"name\":\"Tiramisu Macadamia Egg Free\"},{\"id\":3010471,\"name\":\"100 Plus Orange Isotonic Drink\"},{\"id\":5031324,\"name\":\"Hokto Bunashimeji Mushroom\"},{\"id\":2875226,\"name\":\"15 LowFat Swiss Premium Yogurt  Pink Grapefruit\"},{\"id\":2620905,\"name\":\"Fruity Fresh Mouthwash\"},{\"id\":5047096,\"name\":\"Ristorante Pizza Funghi Mushrooms  Cheese\"},{\"id\":4981242,\"name\":\"Diesel Fuel Treatment  Injector Cleaner\"},{\"id\":5011233,\"name\":\"Peanut Butter  Sunflower Pumpkin  Flax Seeds\"},{\"id\":2875960,\"name\":\"Muruku Shevel\"},{\"id\":4981446,\"name\":\"Homemade Chicken Stock\"},{\"id\":2910970,\"name\":\"Black Pepper Crab Sauce\"},{\"id\":5159973,\"name\":\"Tea  Lemon  Ginger\"},{\"id\":2911027,\"name\":\"Fetherlite Condoms\"},{\"id\":5159816,\"name\":\"Garlic Roasted Sweet Potato\"},{\"id\":4739710,\"name\":\"Limpets\"},{\"id\":4448515,\"name\":\"Vegetarian Minestrone with Wholemeal Pasta\"},{\"id\":5161215,\"name\":\"Roast\"},{\"id\":2893183,\"name\":\"Oreo\"},{\"id\":3010575,\"name\":\"Ice Mountain Pure Drinking Water\"},{\"id\":5044740,\"name\":\"Strawberries  Cream\"},{\"id\":2771171,\"name\":\"Cream Replenishes Dry Skin\"},{\"id\":5045716,\"name\":\"Sauce  Pesto Alla Genovese\"},{\"id\":2878648,\"name\":\"Straw Mushroom\"},{\"id\":5078777,\"name\":\"Swim Pants M Blue Boy  Medium\"},{\"id\":5044305,\"name\":\"Liquid Dish Soap  Honeysuckle\"},{\"id\":5031595,\"name\":\"Japan Fuji Apples\"},{\"id\":5013395,\"name\":\"Goddess Dressing\"},{\"id\":5160557,\"name\":\"Sauce  Soba Tsuyu\"},{\"id\":5047810,\"name\":\"Smoked Salmon  Gin  Tonic\"},{\"id\":3314552,\"name\":\"BBQ Honey Pork Belly Grilled\"},{\"id\":4955167,\"name\":\"Saba Fish In Brine\"},{\"id\":2771785,\"name\":\"3 in 1 Kopi O Coffee Mixture Bags\"},{\"id\":5160846,\"name\":\"Hibiscus Noodle\"},{\"id\":2771966,\"name\":\"Hair Shampoo  Lively Clean  Fresh\"},{\"id\":5014767,\"name\":\"HiChew Premium Candy  White Grape\"},{\"id\":5044757,\"name\":\"Organic Kamut Pasta  Spaghetti\"},{\"id\":2876362,\"name\":\"Paste  Green Curry\"},{\"id\":5044213,\"name\":\"Tub and Tile Cleaner  Lemon Lavender\"},{\"id\":2769213,\"name\":\"CleanUp AllPurpose Cleaner with Bleach\"},{\"id\":4640556,\"name\":\"Candles  Colour Flame 6 CandlesPack\"},{\"id\":5658764,\"name\":\"Thai Chili Sauce\"},{\"id\":2981255,\"name\":\"The Original Soft Beef Jerky\"},{\"id\":5044156,\"name\":\"Oregon Fresh Seaweed Potato Chips\"},{\"id\":899308,\"name\":\"A Soy\"},{\"id\":2877813,\"name\":\"Organic Vegetable Broth\"},{\"id\":2728868,\"name\":\"Pure Fresh Sugar Free Mints  Intense Mint\"},{\"id\":5603492,\"name\":\"Wee Wee Dry Baby Diaper M 6  11 Kg\"},{\"id\":5563351,\"name\":\"Tomato Pretz\"},{\"id\":5048361,\"name\":\"Mix Baby Leaves\"},{\"id\":2876204,\"name\":\"Peanut Butter Four Seed Crunchy\"},{\"id\":509655,\"name\":\"Shoulder Blade\"},{\"id\":5012624,\"name\":\"Bottle Drink  Tender Coconut Bits\"},{\"id\":5010972,\"name\":\"2 Large Pizza Bases\"},{\"id\":5240514,\"name\":\"Greek Yogurball Blueberry\"},{\"id\":5439468,\"name\":\"Green Tea  Unsweetened\"},{\"id\":2977044,\"name\":\"Mint Chocolate Chip Ice Cream\"},{\"id\":4708249,\"name\":\"Extra Vigrin Olive Oil Exclusive Selection Premium Basil Flavor Spray\"},{\"id\":5253017,\"name\":\"Cream Cheese Apricot And Almond With Sweer Papaya\"},{\"id\":5012407,\"name\":\"Purees  Apple  Carrot\"},{\"id\":2976802,\"name\":\"Royale Chocolate\"},{\"id\":5012727,\"name\":\"Green Chile Enchilada Sauce  Mild\"},{\"id\":5047035,\"name\":\"Hanbai Chips  Goya Japanese Bitter Gourd\"},{\"id\":4979468,\"name\":\"Thin Curv Chips  Barbeque\"},{\"id\":5015050,\"name\":\"Spread  French Toast\"},{\"id\":5242973,\"name\":\"Green Beans Cut Extra Fine\"},{\"id\":5439470,\"name\":\"Organic Unsweetened Plain Soy Milk\"},{\"id\":4980865,\"name\":\"Men Post Shave Balm  Original\"},{\"id\":3188914,\"name\":\"Unrefined Light Brown Soft Sugar Light Muscovado\"},{\"id\":2728605,\"name\":\"Pepper Sauce\"},{\"id\":4660160,\"name\":\"Japanese Buckwheat Noodles\"},{\"id\":5043700,\"name\":\"Hearts of Palm\"},{\"id\":4981188,\"name\":\"Wavetop Tie Tidy Bags  Extra Large\"},{\"id\":5439373,\"name\":\"Mustard  Cucumber Garlic  Dill\"},{\"id\":3510449,\"name\":\"Low Fat Strawberry Milk\"},{\"id\":5010638,\"name\":\"Organic Ultimate Almond Drink\"},{\"id\":2771126,\"name\":\"Intensive Body Moisturiser  Extremely Dry Skin\"},{\"id\":4975628,\"name\":\"Chocolate Peppermint Creams\"},{\"id\":2876509,\"name\":\"Cordyceps Organic Chicken Whole Leg with Bones\"},{\"id\":4979164,\"name\":\"Blackcurrant Fruit Cordial Bottled Drink\"},{\"id\":2771572,\"name\":\"Ocean World Fish Shape Biscuits\"},{\"id\":2877636,\"name\":\"Beef  Chicken Salami\"},{\"id\":5043928,\"name\":\"2 in 1 Instant Charcoal Roasted White Coffee  Creamer\"},{\"id\":5030504,\"name\":\"Greek Yogurt Plain\"},{\"id\":5160749,\"name\":\"Marri Australia Raw Honey\"},{\"id\":2876110,\"name\":\"Chewy Dragees  Mint\"},{\"id\":5045789,\"name\":\"Artisan Pasta  Mezze Maniche\"},{\"id\":5030000,\"name\":\"Matcha Green Tea Ice Cream\"},{\"id\":5012248,\"name\":\"FreezeDried Edamame Veggie Snack  Onion  Chive\"},{\"id\":5014894,\"name\":\"Marie Biscuit\"},{\"id\":5584622,\"name\":\"Shredded Pizza Topping\"},{\"id\":5046154,\"name\":\"Plantain Chips\"},{\"id\":5439264,\"name\":\"Amazake Sweet Rice Drink  Apple\"},{\"id\":5161321,\"name\":\"100 Juice 3 Orange\"},{\"id\":4448630,\"name\":\"Raspberry  Pomegranate Can\"},{\"id\":5044961,\"name\":\"Organic Pasta Sauce  Vegetables\"},{\"id\":4979258,\"name\":\"Bottled Juice Drink  Pomegranate\"},{\"id\":2772096,\"name\":\"Original 3in1 Oat Cereal Drink\"},{\"id\":2876722,\"name\":\"Shrimp Flavour Shin Ramyun Noodle Soup\"},{\"id\":5042012,\"name\":\"DELETED MS5 Beef  Tomahawk\"},{\"id\":5606187,\"name\":\"Tansan Lemon\"},{\"id\":5160803,\"name\":\"Crackers  Walnut Honey\"},{\"id\":3537105,\"name\":\"Curry Puff\"},{\"id\":2769462,\"name\":\"Koko Krunch\"},{\"id\":5594809,\"name\":\"Coconut Oil  Extra Virgin\"},{\"id\":5014197,\"name\":\"Balsamic Vinegar  Modena Infused with White Truffle\"},{\"id\":2875526,\"name\":\"Organic Free Range Chicken Broth\"},{\"id\":5014465,\"name\":\"Dairy Free Bourghal Coarse\"},{\"id\":2770900,\"name\":\"Refreshing Lime Kitchen Cleaner\"},{\"id\":2768892,\"name\":\"Advanced Whitening Super Value Toothpaste\"},{\"id\":2769332,\"name\":\"Tomato Chilli Sauce\"},{\"id\":5047368,\"name\":\"Parm Ice Cream  Almond  Chocolate\"},{\"id\":5044526,\"name\":\"Tea  Strawberry  Mango\"},{\"id\":4980672,\"name\":\"Ground Coffee Decaf\"},{\"id\":5043354,\"name\":\"Oat So Simple Porridge  Apple  Blueberry\"},{\"id\":5046707,\"name\":\"Light Soy Sauce  Special\"},{\"id\":5159359,\"name\":\"Japanese Pilaf  Tuna  Vegetables\"},{\"id\":5043855,\"name\":\"Dashi Powder\"},{\"id\":4982515,\"name\":\"Soya Sauce  Light Special Grade\"},{\"id\":5159840,\"name\":\"Takeaway Garlic Bread Slice n Share Cheesy Garlic Bread\"},{\"id\":4980840,\"name\":\"Organic Spaghetti  Durum Wheat\"},{\"id\":5015207,\"name\":\"Golden Curry Sauce Mix  Hot\"},{\"id\":5044706,\"name\":\"Semi Skimmed UHT Milk\"},{\"id\":5029831,\"name\":\"Magnolia  Vanilla Flavoured Ice Confection\"},{\"id\":2977725,\"name\":\"Blackcurrant Jam\"},{\"id\":5031459,\"name\":\"Purple Carrot\"},{\"id\":5029787,\"name\":\"Ristorante Pizza Pepperoni Pepperoni  Cheese\"},{\"id\":2636449,\"name\":\"Hawaiian Pizza\"},{\"id\":2769984,\"name\":\"Beef Cube\"},{\"id\":5014995,\"name\":\"Pure Honey from Alberta\"},{\"id\":2877856,\"name\":\"Roasted Salted Peanuts\"},{\"id\":2620895,\"name\":\"AntiHair Fall Shampoo\"},{\"id\":2769457,\"name\":\"Peanut Butter Sandwich Biscuit\"},{\"id\":547574,\"name\":\"1 Eye Q Plus\"},{\"id\":5013625,\"name\":\"Organic California Brown Basmati Rice\"},{\"id\":2889166,\"name\":\"Cod Steak\"},{\"id\":5161757,\"name\":\"Carte Dor Ice Cream  Salted Caramel\"},{\"id\":4980543,\"name\":\"Filter Coffee  Caffe Filtro Medium Roast\"},{\"id\":5432567,\"name\":\"All Day IPA\"},{\"id\":2682395,\"name\":\"Revitalize Youth Reviving Daily Feminine Wash\"},{\"id\":5161400,\"name\":\"Yasaiseikatsu 100 Original Vegetable  Fruit Mixed Juice\"},{\"id\":5046827,\"name\":\"Dorayaki  Original\"},{\"id\":4667463,\"name\":\"NG Ayam Kicap\"},{\"id\":5047617,\"name\":\"Frozen Pizza  Turkey Ham\"},{\"id\":5605825,\"name\":\"Biopot  Fat Free Strawberry\"},{\"id\":2977449,\"name\":\"Heavy Syrup  Lotus Nuts\"},{\"id\":5014204,\"name\":\"Truffle Thrills  Mushrooms\"},{\"id\":5011426,\"name\":\"Shampoo  Salon Silk\"},{\"id\":5066911,\"name\":\"Travel Calm Ginger\"},{\"id\":5545240,\"name\":\"NatureHike 10L Waterproof Dry Water Bag Blue\"},{\"id\":5043179,\"name\":\"Pretzels  Original Sea Salted\"},{\"id\":2876948,\"name\":\"Frozen Chicken Franks\"},{\"id\":5114361,\"name\":\"Bottle Drink  Root Beer\"},{\"id\":5067125,\"name\":\"Light Airy Extra Heavy Flow 35Cm\"},{\"id\":2769705,\"name\":\"Dairy Milk Chocolate Bar  Hazelnut\"},{\"id\":2769249,\"name\":\"White Intimate Whitening Daily Feminine Wash\"},{\"id\":5012490,\"name\":\"Organic Unsweetened  Salt Free  Tahini\"},{\"id\":5014264,\"name\":\"Roasted Peppers  Strips\"},{\"id\":5013889,\"name\":\"Original Fruit Leather  Strawberry with Other Natural Flavours\"},{\"id\":2875793,\"name\":\"VitaC Orange Flavour Candy\"},{\"id\":5608026,\"name\":\"Kabayaki No Tare Sauce  Unagi Sushi Sauce\"},{\"id\":2728917,\"name\":\"Coke Zero\"},{\"id\":2875490,\"name\":\"Amazon Prune Juice with Pulp\"},{\"id\":3202047,\"name\":\"Yasaiseikatsu 100 Energy Roots Vegetable and Fruit Juice\"},{\"id\":3189192,\"name\":\"Gourmet Powder\"},{\"id\":2770853,\"name\":\"Straw Mushrooms\"},{\"id\":4981993,\"name\":\"100 Pure Florida Orange Juice\"},{\"id\":5029869,\"name\":\"Chocolate Ice Cream\"},{\"id\":5047151,\"name\":\"Gourmet Ice Cream Sandwich  Milk  Cookies\"},{\"id\":4980470,\"name\":\"Linguine Pasta  Truffle\"},{\"id\":2875871,\"name\":\"Life Scents MultiLayered Fragrance  Linen In The Air\"},{\"id\":5240047,\"name\":\"Skinless Pork Rack Marinated with Herb Provencale\"},{\"id\":4448739,\"name\":\"Pickle  Small Chunk\"},{\"id\":2771244,\"name\":\"Spam Kebabs\"},{\"id\":5243070,\"name\":\"Comfortable Foot Feel Floor Detergent Fresh Floral\"},{\"id\":2682849,\"name\":\"Aromalicious Grains  More 3 in 1 Oat\"},{\"id\":2770789,\"name\":\"Command Assorted Refill Strip Value Pack\"},{\"id\":5044025,\"name\":\"Spicy Black Bean Sauce\"},{\"id\":4980595,\"name\":\"Cherry Shine Caring Lip Balm\"},{\"id\":5078865,\"name\":\"Kleenex Pocket Pack Facial Tissue Disney\"},{\"id\":5046110,\"name\":\"Pure Vanilla Extract\"},{\"id\":2771753,\"name\":\"Pineapple  Mango Spread High Fruit Content Spread\"},{\"id\":5011891,\"name\":\"Potato Snacks  Original\"},{\"id\":5162336,\"name\":\"Mix  Hainanese Chicken Rice\"},{\"id\":5030175,\"name\":\"Shoestring French Fries\"},{\"id\":4448651,\"name\":\"Vegetarian Minestrone with Wholemeal Pasta\"},{\"id\":4979734,\"name\":\"Bottled Apple Juice  Sparkling\"},{\"id\":5030638,\"name\":\"Original Arctic Roll\"},{\"id\":2876313,\"name\":\"Tropiledic  Pale Ale\"},{\"id\":5607801,\"name\":\"Oxi Action Fabric Stain Remover\"},{\"id\":4978697,\"name\":\"The Orange One\"},{\"id\":4980999,\"name\":\"Frollini Biscuits  Yogurt  Honey\"},{\"id\":4983784,\"name\":\"Rice Pilaf Mix  Original\"},{\"id\":4453332,\"name\":\"Herbs  Black Pepper Coarse\"},{\"id\":2876175,\"name\":\"Organic Tea  Chamomile\"},{\"id\":5045203,\"name\":\"Dolce Gusto Cortado  Espresso Macchiato\"},{\"id\":5041942,\"name\":\"Frozen Saga Gyu A4 Steak\"},{\"id\":5016121,\"name\":\"Garbage Bag Blue  Small\"},{\"id\":5593328,\"name\":\"Crispy Rice Cracker with Roasted Peanuts  Soy Bean  Dried Kelp\"},{\"id\":5012041,\"name\":\"Tasty Seasoning Black Pepper\"},{\"id\":2771165,\"name\":\"Skin Restoring Body Moisturizer\"},{\"id\":5612916,\"name\":\"AraiGoma White\"},{\"id\":571688,\"name\":\"Pro 1 Probiotics\"},{\"id\":5067105,\"name\":\"Detox Deluxe AmPm\"},{\"id\":5030420,\"name\":\"Fruit Cup Jelly  Longan Almond\"},{\"id\":2863273,\"name\":\"Apple Vinegar\"},{\"id\":4982380,\"name\":\"Durum Wheat Semolina Pasta  Chifferi Rigati N50\"},{\"id\":2620996,\"name\":\"Intense Repair Conditioner\"},{\"id\":5432465,\"name\":\"Pickled Mustard\"},{\"id\":2878488,\"name\":\"Manhattan Clam Chowder\"},{\"id\":5432021,\"name\":\"Kitchen Soap\"},{\"id\":2780226,\"name\":\"Unbleached Bamboo Organic Cloth Baby Wipes\"},{\"id\":2876640,\"name\":\"Frozen Lobster Tail 2 pcs\"},{\"id\":4975577,\"name\":\"Sauce  Black Pepper\"},{\"id\":2738061,\"name\":\"Single Scoop\"}]'"
      ]
     },
     "execution_count": 213,
     "metadata": {},
     "output_type": "execute_result"
    }
   ],
   "source": [
    "dfui.to_json(orient='records')"
   ]
  },
  {
   "cell_type": "markdown",
   "metadata": {},
   "source": [
    "# Playground"
   ]
  },
  {
   "cell_type": "code",
   "execution_count": 81,
   "metadata": {},
   "outputs": [
    {
     "data": {
      "text/plain": [
       "'Spaghetti Aglio Olio with Mushroom Department - (Just Acia Menu 2 (just-acia)) Spaghetti Set '"
      ]
     },
     "execution_count": 81,
     "metadata": {},
     "output_type": "execute_result"
    }
   ],
   "source": [
    "data = pd.read_csv('processed_products_data.csv')\n",
    "document = data[data['source_product_id'] == int('4644188')].iloc[0]['document']\n",
    "document"
   ]
  },
  {
   "cell_type": "code",
   "execution_count": 45,
   "metadata": {},
   "outputs": [],
   "source": [
    "! open . "
   ]
  },
  {
   "cell_type": "markdown",
   "metadata": {},
   "source": [
    "# Get similarity"
   ]
  },
  {
   "cell_type": "code",
   "execution_count": 45,
   "metadata": {},
   "outputs": [],
   "source": [
    "def get_similarity(doc):\n",
    "    sample_doc = doc\n",
    "\n",
    "    # Pre - process document\n",
    "    vec_bow = dictionary.doc2bow(sample_doc.lower().split())\n",
    "    vec_lsi = model[vec_bow]\n",
    "    \n",
    "    similarity_scores = index[vec_lsi]\n",
    "    similarity_scores = list(enumerate(similarity_scores))\n",
    "    \n",
    "    \n",
    "    \n",
    "\n",
    "    # Sort in descending order of similarity\n",
    "    sorted_similarity_scores = sorted(similarity_scores, key=lambda tup: tup[1], reverse=True)\n",
    "    similar_products = []\n",
    "    for doc_index, score in sorted_similarity_scores[:10]:\n",
    "        product_id = doc_index_to_id[doc_index]\n",
    "        product_info = selected_data[selected_data['source_product_id'] == product_id].iloc[0]\n",
    "    #     product_info += \" : \" + str(selected_data[selected_data['source_product_id'] == product_id]['description_en'])\n",
    "#         print(f'{product_info} : {score}')\n",
    "    #     print(str(selected_data[selected_data['source_product_id'] == product_id]['description_en']))\n",
    "        similar_products.append(product_info.to_json())\n",
    "    return similar_products"
   ]
  },
  {
   "cell_type": "code",
   "execution_count": 46,
   "metadata": {},
   "outputs": [
    {
     "name": "stdout",
     "output_type": "stream",
     "text": [
      "=========\n",
      "Xin's Gold Leaf Salmon Yusheng Chinese New Year Ready to Eat \n",
      "['{\"source_product_id\":1156968,\"name\":\"Xin\\'s Gold Leaf Salmon Yusheng\",\"departments_name\":\"Chinese New Year\",\"categories_name\":\"Ready to Eat\",\"description_en\":\"\",\"image_url\":\"https:\\\\/\\\\/assets.honestbee.com\\\\/products\\\\/images\\\\/480\\\\/holiday-inn-atrium-cny-2017_hiacny201701_hiacny201701-1.jpg\",\"document\":\"Xin\\'s Gold Leaf Salmon Yusheng Chinese New Year Ready to Eat \"}', '{\"source_product_id\":1229304,\"name\":\"Xin\\'s Gold Leaf Salmon Yusheng\",\"departments_name\":\"Chinese New Year\",\"categories_name\":\"Ready to Eat\",\"description_en\":\"\",\"image_url\":\"https:\\\\/\\\\/assets.honestbee.com\\\\/products\\\\/images\\\\/480\\\\/holiday-inn-atrium-cny-2017_hiacny201701small_hiacny201701small-1.jpg\",\"document\":\"Xin\\'s Gold Leaf Salmon Yusheng Chinese New Year Ready to Eat \"}', '{\"source_product_id\":3199222,\"name\":\"Hamachi and Salmon Yu Sheng \\\\u6cb9\\\\u7518\\\\u9c7c\\\\u4e09\\\\u6587\\\\u9c7c\\\\u751f\\\\u635e\\\\u8d77 (Large)\",\"departments_name\":\"Chinese New Year\",\"categories_name\":\"Ready to Eat\",\"description_en\":\"\",\"image_url\":\"https:\\\\/\\\\/assets.honestbee.com\\\\/products\\\\/images\\\\/480\\\\/holidayinnatriumcny2018_holidayinncny03_holidayinncny03-1.jpg\",\"document\":\"Hamachi and Salmon Yu Sheng \\\\u6cb9\\\\u7518\\\\u9c7c\\\\u4e09\\\\u6587\\\\u9c7c\\\\u751f\\\\u635e\\\\u8d77 (Large) Chinese New Year Ready to Eat \"}', '{\"source_product_id\":3199234,\"name\":\"*Signature* Xin\\'s Gold Leaf Salmon Yusheng \\\\u65b0\\\\u6545\\\\u4e61\\\\u9e3f\\\\u8fd0\\\\u91d1\\\\u53f6\\\\u4e09\\\\u6587\\\\u9c7c\\\\u751f\\\\u635e\\\\u8d77 (Large)\",\"departments_name\":\"Chinese New Year\",\"categories_name\":\"Ready to Eat\",\"description_en\":\"\",\"image_url\":\"https:\\\\/\\\\/assets.honestbee.com\\\\/products\\\\/images\\\\/480\\\\/holidayinnatriumcny2018_holidayinncny15_holidayinncny15-1.jpg\",\"document\":\"*Signature* Xin\\'s Gold Leaf Salmon Yusheng \\\\u65b0\\\\u6545\\\\u4e61\\\\u9e3f\\\\u8fd0\\\\u91d1\\\\u53f6\\\\u4e09\\\\u6587\\\\u9c7c\\\\u751f\\\\u635e\\\\u8d77 (Large) Chinese New Year Ready to Eat \"}', '{\"source_product_id\":3199233,\"name\":\"*Signature* Xin\\'s Gold Leaf Salmon Yusheng \\\\u65b0\\\\u6545\\\\u4e61\\\\u9e3f\\\\u8fd0\\\\u91d1\\\\u53f6\\\\u4e09\\\\u6587\\\\u9c7c\\\\u751f\\\\u635e\\\\u8d77 (Small)\",\"departments_name\":\"Chinese New Year\",\"categories_name\":\"Ready to Eat\",\"description_en\":\"\",\"image_url\":\"https:\\\\/\\\\/assets.honestbee.com\\\\/products\\\\/images\\\\/480\\\\/holidayinnatriumcny2018_holidayinncny14_holidayinncny14-1.jpg\",\"document\":\"*Signature* Xin\\'s Gold Leaf Salmon Yusheng \\\\u65b0\\\\u6545\\\\u4e61\\\\u9e3f\\\\u8fd0\\\\u91d1\\\\u53f6\\\\u4e09\\\\u6587\\\\u9c7c\\\\u751f\\\\u635e\\\\u8d77 (Small) Chinese New Year Ready to Eat \"}', '{\"source_product_id\":3199221,\"name\":\"Hamachi and Salmon Yu Sheng \\\\u6cb9\\\\u7518\\\\u9c7c\\\\u4e09\\\\u6587\\\\u9c7c\\\\u751f\\\\u635e\\\\u8d77 (Small)\",\"departments_name\":\"Chinese New Year\",\"categories_name\":\"Ready to Eat\",\"description_en\":\"\",\"image_url\":\"https:\\\\/\\\\/assets.honestbee.com\\\\/products\\\\/images\\\\/480\\\\/holidayinnatriumcny2018_holidayinncny02_holidayinncny02-1.jpg\",\"document\":\"Hamachi and Salmon Yu Sheng \\\\u6cb9\\\\u7518\\\\u9c7c\\\\u4e09\\\\u6587\\\\u9c7c\\\\u751f\\\\u635e\\\\u8d77 (Small) Chinese New Year Ready to Eat \"}', '{\"source_product_id\":3199220,\"name\":\"D24 Durian Nian Gao \\\\u9996\\\\u521bD24 \\\\u69b4\\\\u83b2\\\\u5e74\\\\u7cd5\",\"departments_name\":\"Chinese New Year\",\"categories_name\":\"Ready to Eat\",\"description_en\":\"\",\"image_url\":\"https:\\\\/\\\\/assets.honestbee.com\\\\/products\\\\/images\\\\/480\\\\/holidayinnatriumcny2018_holidayinncny01_holidayinncny01-1.png\",\"document\":\"D24 Durian Nian Gao \\\\u9996\\\\u521bD24 \\\\u69b4\\\\u83b2\\\\u5e74\\\\u7cd5 Chinese New Year Ready to Eat \"}', '{\"source_product_id\":1229305,\"name\":\"Xin\\'s traditional Pen cai\",\"departments_name\":\"Chinese New Year\",\"categories_name\":\"Ready to Eat\",\"description_en\":\"\",\"image_url\":\"https:\\\\/\\\\/assets.honestbee.com\\\\/products\\\\/images\\\\/480\\\\/holiday-inn-atrium-cny-2017_hiacny201702small_hiacny201702small-1.jpg\",\"document\":\"Xin\\'s traditional Pen cai Chinese New Year Ready to Eat \"}', '{\"source_product_id\":1156969,\"name\":\"Xin\\'s traditional Pen cai\",\"departments_name\":\"Chinese New Year\",\"categories_name\":\"Ready to Eat\",\"description_en\":\"\",\"image_url\":\"https:\\\\/\\\\/assets.honestbee.com\\\\/products\\\\/images\\\\/480\\\\/holiday-inn-atrium-cny-2017_hiacny201702_hiacny201702-1.jpg\",\"document\":\"Xin\\'s traditional Pen cai Chinese New Year Ready to Eat \"}', '{\"source_product_id\":3199224,\"name\":\"Hamachi Yu Sheng \\\\u6cb9\\\\u7518\\\\u9c7c\\\\u751f\\\\u635e\\\\u8d77 (Large)\",\"departments_name\":\"Chinese New Year\",\"categories_name\":\"Ready to Eat\",\"description_en\":\"\",\"image_url\":\"https:\\\\/\\\\/assets.honestbee.com\\\\/products\\\\/images\\\\/480\\\\/holidayinnatriumcny2018_holidayinncny05_holidayinncny05-1.jpg\",\"document\":\"Hamachi Yu Sheng \\\\u6cb9\\\\u7518\\\\u9c7c\\\\u751f\\\\u635e\\\\u8d77 (Large) Chinese New Year Ready to Eat \"}']\n"
     ]
    }
   ],
   "source": [
    "similar_products = {}\n",
    "for id in dfui['id'][0:1]:\n",
    "#     print(id)\n",
    "    document = selected_data[selected_data['source_product_id'] == id]['document'].iloc[0]\n",
    "    print(\"=========\")\n",
    "    print(document)\n",
    "    print(get_similarity(document))"
   ]
  },
  {
   "cell_type": "code",
   "execution_count": 147,
   "metadata": {},
   "outputs": [],
   "source": [
    "import string\n",
    "#make translator object\n",
    "translator=str.maketrans('','',string.punctuation)\n",
    "string = \"D24 Durian Nian Gao \\\\u9996\\\\u521bD24 \\\\u69b4\\\\u83b2\\\\u5e74\\\\u7cd5 Chinese New Year Ready to Eat \""
   ]
  },
  {
   "cell_type": "code",
   "execution_count": 145,
   "metadata": {},
   "outputs": [
    {
     "data": {
      "text/plain": [
       "b'D24 Durian Nian Gao \\\\u9996\\\\u521bD24 \\\\u69b4\\\\u83b2\\\\u5e74\\\\u7cd5 Chinese New Year Ready to Eat '"
      ]
     },
     "execution_count": 145,
     "metadata": {},
     "output_type": "execute_result"
    }
   ],
   "source": [
    "# string = string.encode(encoding='UTF-8',errors='strict')\n",
    "string = string.encode('ascii',errors='ignore')\n",
    "# string=string.translate(translator)\n",
    "string"
   ]
  },
  {
   "cell_type": "code",
   "execution_count": 194,
   "metadata": {},
   "outputs": [
    {
     "ename": "SyntaxError",
     "evalue": "invalid syntax (<ipython-input-194-5cb48b15ffaa>, line 1)",
     "output_type": "error",
     "traceback": [
      "\u001b[0;36m  File \u001b[0;32m\"<ipython-input-194-5cb48b15ffaa>\"\u001b[0;36m, line \u001b[0;32m1\u001b[0m\n\u001b[0;31m    s = \"\\\\\"Ko Song\\\\\" Plain Pasta\"\u001b[0m\n\u001b[0m             ^\u001b[0m\n\u001b[0;31mSyntaxError\u001b[0m\u001b[0;31m:\u001b[0m invalid syntax\n"
     ]
    }
   ],
   "source": [
    "s = \"\\\\\"Ko Song\\\\\" Plain Pasta\""
   ]
  },
  {
   "cell_type": "code",
   "execution_count": null,
   "metadata": {},
   "outputs": [],
   "source": []
  }
 ],
 "metadata": {
  "kernelspec": {
   "display_name": "Python 3",
   "language": "python",
   "name": "python3"
  },
  "language_info": {
   "codemirror_mode": {
    "name": "ipython",
    "version": 3
   },
   "file_extension": ".py",
   "mimetype": "text/x-python",
   "name": "python",
   "nbconvert_exporter": "python",
   "pygments_lexer": "ipython3",
   "version": "3.7.0"
  }
 },
 "nbformat": 4,
 "nbformat_minor": 2
}
